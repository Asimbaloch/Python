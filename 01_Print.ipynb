{
  "nbformat": 4,
  "nbformat_minor": 0,
  "metadata": {
    "colab": {
      "provenance": [],
      "authorship_tag": "ABX9TyO4sFxwZ9s+fclq+YlnDJDj",
      "include_colab_link": true
    },
    "kernelspec": {
      "name": "python3",
      "display_name": "Python 3"
    },
    "language_info": {
      "name": "python"
    }
  },
  "cells": [
    {
      "cell_type": "markdown",
      "metadata": {
        "id": "view-in-github",
        "colab_type": "text"
      },
      "source": [
        "<a href=\"https://colab.research.google.com/github/Asimbaloch/Python/blob/main/01_Print.ipynb\" target=\"_parent\"><img src=\"https://colab.research.google.com/assets/colab-badge.svg\" alt=\"Open In Colab\"/></a>"
      ]
    },
    {
      "cell_type": "markdown",
      "source": [
        "# 01_Print: The `print()` Function in Python\n",
        "\n",
        "## What is the `print()` function?\n",
        "\n",
        "The `print()` function is one of the most commonly used functions in Python. It is used to output text, numbers, or any other data type to the console. This is useful for debugging, displaying messages, and interacting with users.\n"
      ],
      "metadata": {
        "id": "z2-zW_lrpmyb"
      }
    },
    {
      "cell_type": "code",
      "execution_count": 1,
      "metadata": {
        "colab": {
          "base_uri": "https://localhost:8080/"
        },
        "id": "C7VpMc9CozZH",
        "outputId": "f6ea44a1-0339-439e-b3ad-dca5b0ca8d19"
      },
      "outputs": [
        {
          "output_type": "stream",
          "name": "stdout",
          "text": [
            "Hello World\n"
          ]
        }
      ],
      "source": [
        "print (\"Hello World\")"
      ]
    },
    {
      "cell_type": "markdown",
      "source": [
        "\n",
        "### Printing Multiple Items\n",
        "\n",
        "You can print multiple values by separating them with commas.\n"
      ],
      "metadata": {
        "id": "PSnFrIhAp90g"
      }
    },
    {
      "cell_type": "code",
      "source": [
        "print (\"Asim\",22,\"Computer Science\",\"Python is favourite Language\")"
      ],
      "metadata": {
        "colab": {
          "base_uri": "https://localhost:8080/"
        },
        "id": "3k-hfxMHp9FH",
        "outputId": "6d082e1d-4197-4047-dffa-381ed33c1a02"
      },
      "execution_count": 3,
      "outputs": [
        {
          "output_type": "stream",
          "name": "stdout",
          "text": [
            "Asim 22 Computer Science Python is favourite Language\n"
          ]
        }
      ]
    },
    {
      "cell_type": "markdown",
      "source": [
        "\n",
        "### Using `sep` and `end` Parameters\n",
        "\n",
        "- **sep**: Used to define how the values are separated.\n"
      ],
      "metadata": {
        "id": "lOfNNNHjqRbu"
      }
    },
    {
      "cell_type": "code",
      "source": [
        "print (\"Asim\",22,\"Computer Science\",\"Python is favourite Language\",sep=\",\")"
      ],
      "metadata": {
        "colab": {
          "base_uri": "https://localhost:8080/"
        },
        "id": "kgdMudF1qSIA",
        "outputId": "c2072df1-e986-49f1-f5d8-8f12bd21c824"
      },
      "execution_count": 9,
      "outputs": [
        {
          "output_type": "stream",
          "name": "stdout",
          "text": [
            "Asim,22,Computer Science,Python is favourite Language\n"
          ]
        }
      ]
    },
    {
      "cell_type": "markdown",
      "source": [
        "\n",
        "- **end**: Used to define what to print at the end of the output. The default is a newline (`\\n`), but you can change it to anything.\n"
      ],
      "metadata": {
        "id": "JVKcdpjWqrkK"
      }
    },
    {
      "cell_type": "code",
      "source": [
        "# Example of using end parameter\n",
        "print(\"Hello\", end=\" \")\n",
        "print(\"World!\")\n"
      ],
      "metadata": {
        "colab": {
          "base_uri": "https://localhost:8080/"
        },
        "id": "oDkcp0Wsqsnz",
        "outputId": "4f5ec976-3c33-4270-98a2-98221958a112"
      },
      "execution_count": 11,
      "outputs": [
        {
          "output_type": "stream",
          "name": "stdout",
          "text": [
            "Hello .World!\n"
          ]
        }
      ]
    },
    {
      "cell_type": "markdown",
      "source": [
        "\n",
        "### Example with Variables\n",
        "\n",
        "You can print the value of variables in the output.\n"
      ],
      "metadata": {
        "id": "CcFLdF5vrn18"
      }
    },
    {
      "cell_type": "code",
      "source": [
        "x= 10\n",
        "y= 20\n",
        "print (\"The sum of x and y is\",x+y)"
      ],
      "metadata": {
        "colab": {
          "base_uri": "https://localhost:8080/"
        },
        "id": "6O5wUVL-rcYb",
        "outputId": "481cc37d-5de2-4a43-f5d2-d6a03744686b"
      },
      "execution_count": 15,
      "outputs": [
        {
          "output_type": "stream",
          "name": "stdout",
          "text": [
            "The sum of x and y is 30\n"
          ]
        }
      ]
    },
    {
      "cell_type": "markdown",
      "source": [
        "\n",
        "### Printing with f-strings\n",
        "\n",
        "For more readable and convenient string formatting, f-strings can be used.\n"
      ],
      "metadata": {
        "id": "sXxndq6dyzGt"
      }
    },
    {
      "cell_type": "code",
      "source": [
        "name = \"Asim\"\n",
        "degree = \"Computer Science\"\n",
        "\n",
        "print(f\"My name is {name} and I am a {degree} student.\")"
      ],
      "metadata": {
        "colab": {
          "base_uri": "https://localhost:8080/"
        },
        "id": "ViyHNieeyz9U",
        "outputId": "99bc012a-f0f6-4235-eed1-9cca9ed60e24"
      },
      "execution_count": 16,
      "outputs": [
        {
          "output_type": "stream",
          "name": "stdout",
          "text": [
            "My name is Asim and I am a Computer Science student.\n"
          ]
        }
      ]
    },
    {
      "cell_type": "code",
      "source": [
        "# Example: Printing a formatted message\n",
        "total = 100\n",
        "discount = 10\n",
        "final_price = total - discount\n",
        "print(f\"Total: ${total}, Discount: ${discount}, Final Price: ${final_price}\")\n"
      ],
      "metadata": {
        "colab": {
          "base_uri": "https://localhost:8080/"
        },
        "id": "Ca4t_I8QzHbD",
        "outputId": "3aa0207c-6a1a-4fe8-aba5-ee81fa76330e"
      },
      "execution_count": 17,
      "outputs": [
        {
          "output_type": "stream",
          "name": "stdout",
          "text": [
            "Total: $100, Discount: $10, Final Price: $90\n"
          ]
        }
      ]
    }
  ]
}