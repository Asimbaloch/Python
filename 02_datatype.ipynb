{
  "nbformat": 4,
  "nbformat_minor": 0,
  "metadata": {
    "colab": {
      "provenance": [],
      "authorship_tag": "ABX9TyM8qkZHFcqZLm8ZydFNvtML",
      "include_colab_link": true
    },
    "kernelspec": {
      "name": "python3",
      "display_name": "Python 3"
    },
    "language_info": {
      "name": "python"
    }
  },
  "cells": [
    {
      "cell_type": "markdown",
      "metadata": {
        "id": "view-in-github",
        "colab_type": "text"
      },
      "source": [
        "<a href=\"https://colab.research.google.com/github/Asimbaloch/Python/blob/main/02_datatype.ipynb\" target=\"_parent\"><img src=\"https://colab.research.google.com/assets/colab-badge.svg\" alt=\"Open In Colab\"/></a>"
      ]
    },
    {
      "cell_type": "markdown",
      "source": [
        "# 02_Datatype: Python Data Types\n",
        "\n",
        "In Python, everything is an **object** and each object has a **data type**. Data types define what kind of value an object holds and what operations can be performed on it. Understanding these types is crucial for working with data effectively.\n",
        "\n",
        "---\n",
        "\n",
        "## Common Data Types in Python\n",
        "\n",
        "### 1. Basic Types:\n",
        "- **int**: Integer values (whole numbers)\n",
        "- **float**: Floating-point numbers (decimals)\n",
        "- **complex**: Complex numbers\n",
        "- **bool**: Boolean values (`True` or `False`)\n",
        "- **str**: Text or strings (sequence of characters)\n",
        "\n",
        "### 2. Container Types:\n",
        "- **list**: Ordered, mutable collection of items\n",
        "- **tuple**: Ordered, immutable collection of items\n",
        "- **set**: Unordered, mutable collection of unique items\n",
        "- **dict**: Key-value pairs, unordered, mutable collection\n",
        "\n",
        "### 3. User-defined Types:\n",
        "- **class**: A blueprint for creating user-defined objects with attributes and methods.\n",
        "\n",
        "---\n",
        "\n",
        "## Checking the Data Type\n",
        "\n",
        "You can check the type of any object using the `type()` function. This is helpful for understanding what kind of data you are working with.\n",
        "\n"
      ],
      "metadata": {
        "id": "-TfWqh47_y0v"
      }
    },
    {
      "cell_type": "code",
      "source": [
        "# Example: Checking the data type of various objects\n",
        "x = 10\n",
        "y = 3.14\n",
        "z = \"Hello\"\n",
        "a = True\n",
        "b = [1, 2, 3]\n",
        "\n",
        "print(type(x))  # Output: <class 'int'>\n",
        "print(type(y))  # Output: <class 'float'>\n",
        "print(type(z))  # Output: <class 'str'>\n",
        "print(type(a))  # Output: <class 'bool'>\n",
        "print(type(b))  # Output: <class 'list'>\n"
      ],
      "metadata": {
        "colab": {
          "base_uri": "https://localhost:8080/"
        },
        "id": "1pvDcmDQ_1h3",
        "outputId": "621786e6-0d98-424e-c823-a56037ca4698"
      },
      "execution_count": 1,
      "outputs": [
        {
          "output_type": "stream",
          "name": "stdout",
          "text": [
            "<class 'int'>\n",
            "<class 'float'>\n",
            "<class 'str'>\n",
            "<class 'bool'>\n",
            "<class 'list'>\n"
          ]
        }
      ]
    },
    {
      "cell_type": "markdown",
      "source": [
        "---\n",
        "\n",
        "## Basic Types\n",
        "\n",
        "### 1. Integers (`int`)\n",
        "Integers represent whole numbers (positive or negative) without decimal points.\n"
      ],
      "metadata": {
        "id": "EuXBX-sP_-Bp"
      }
    },
    {
      "cell_type": "code",
      "source": [
        "# Example of integer\n",
        "num = 10\n",
        "print(type(num))  # Output: <class 'int'>\n"
      ],
      "metadata": {
        "id": "Qpc7q2Jw_--n"
      },
      "execution_count": null,
      "outputs": []
    },
    {
      "cell_type": "markdown",
      "source": [
        "### 2. Floating-Point Numbers (float)\n",
        "\n",
        "Floats are numbers with a decimal point.\n"
      ],
      "metadata": {
        "id": "ajTf49HMAU25"
      }
    },
    {
      "cell_type": "code",
      "source": [
        "# Example of float\n",
        "pi = 3.14159\n",
        "print(type(pi))  # Output: <class 'float'>\n"
      ],
      "metadata": {
        "id": "FxqzhYcsAVWS"
      },
      "execution_count": null,
      "outputs": []
    },
    {
      "cell_type": "markdown",
      "source": [
        "### 3. Complex Numbers\n",
        "\n",
        "Complex numbers have a real and an imaginary part.\n"
      ],
      "metadata": {
        "id": "bRjX3TJDAXSS"
      }
    },
    {
      "cell_type": "code",
      "source": [
        "# Example of complex number\n",
        "c = 2 + 3j\n",
        "print(type(c))  # Output: <class 'complex'>\n"
      ],
      "metadata": {
        "id": "_fCpKXD4AX75"
      },
      "execution_count": null,
      "outputs": []
    },
    {
      "cell_type": "markdown",
      "source": [
        "### 4. Boolean (`bool`)\n",
        "Booleans represent `True` or `False` values, which are useful in decision-making or logic control.\n"
      ],
      "metadata": {
        "id": "OeURi0-s0hD0"
      }
    },
    {
      "cell_type": "code",
      "source": [
        "# Example of boolean\n",
        "is_active = True\n",
        "print(type(is_active))  # Output: <class 'bool'>\n"
      ],
      "metadata": {
        "id": "f0eT1EiG0hsE"
      },
      "execution_count": null,
      "outputs": []
    },
    {
      "cell_type": "markdown",
      "source": [
        "### 5. Strings (`str`)\n",
        "Strings are sequences of characters and can represent text data. They are enclosed in single or double quotes.\n"
      ],
      "metadata": {
        "id": "J0REHj5P0lJ8"
      }
    },
    {
      "cell_type": "code",
      "source": [
        "# Example of string\n",
        "greeting = \"Hello, World!\"\n",
        "print(type(greeting))  # Output: <class 'str'>\n"
      ],
      "metadata": {
        "id": "R_uHNRRr0ndc"
      },
      "execution_count": null,
      "outputs": []
    },
    {
      "cell_type": "markdown",
      "source": [
        "---\n",
        "\n",
        "## Container Types\n",
        "\n",
        "### 1. List (`list`)\n",
        "Lists are ordered and mutable collections. Items can be added, removed, or changed within a list.\n"
      ],
      "metadata": {
        "id": "YbbcNTunAZZx"
      }
    },
    {
      "cell_type": "code",
      "source": [
        "# Example of list\n",
        "my_list = [1, 2, 3, 4, \"apple\"]\n",
        "print(type(my_list))  # Output: <class 'list'>\n"
      ],
      "metadata": {
        "id": "zvkbRsZQ0q4u"
      },
      "execution_count": null,
      "outputs": []
    },
    {
      "cell_type": "markdown",
      "source": [
        "### 2. Tuple (`tuple`)\n",
        "Tuples are ordered but **immutable** collections, meaning their values cannot be changed after creation.\n"
      ],
      "metadata": {
        "id": "TXkTsO8n0tiG"
      }
    },
    {
      "cell_type": "code",
      "source": [
        "# Example of tuple\n",
        "my_tuple = (1, 2, 3)\n",
        "print(type(my_tuple))  # Output: <class 'tuple'>\n"
      ],
      "metadata": {
        "id": "PgijJu630uM2"
      },
      "execution_count": null,
      "outputs": []
    },
    {
      "cell_type": "markdown",
      "source": [
        "### 3. Set (`set`)\n",
        "Sets are unordered collections of unique items. Sets are mutable, but they do not allow duplicate elements.\n"
      ],
      "metadata": {
        "id": "JdjQHRGw0vZP"
      }
    },
    {
      "cell_type": "code",
      "source": [
        "# Example of set\n",
        "my_set = {1, 2, 3, 3, 4}  # The duplicate '3' is removed automatically\n",
        "print(type(my_set))  # Output: <class 'set'>\n",
        "print(my_set)  # Output: {1, 2, 3, 4}\n"
      ],
      "metadata": {
        "id": "818yn0RZ0xWG"
      },
      "execution_count": null,
      "outputs": []
    },
    {
      "cell_type": "markdown",
      "source": [
        "### 4. Dictionary (`dict`)\n",
        "Dictionaries are unordered collections of key-value pairs. Keys are unique, and the values can be of any data type.\n"
      ],
      "metadata": {
        "id": "kNbmAV560yIm"
      }
    },
    {
      "cell_type": "code",
      "source": [
        "# Example of dictionary\n",
        "my_dict = {\"name\": \"Asim\", \"age\": 25, \"city\": \"Murree\"}\n",
        "print(type(my_dict))  # Output: <class 'dict'>\n",
        "print(my_dict[\"name\"])  # Output: Asim\n"
      ],
      "metadata": {
        "id": "n01wqijn00Ql"
      },
      "execution_count": null,
      "outputs": []
    },
    {
      "cell_type": "markdown",
      "source": [
        "---\n",
        "\n",
        "## User-defined Types\n",
        "\n",
        "### Classes (`class`)\n",
        "A class is a user-defined blueprint that defines the attributes (data) and methods (functions) for objects.\n"
      ],
      "metadata": {
        "id": "OOlO1mq301au"
      }
    },
    {
      "cell_type": "code",
      "source": [
        "# Example of class\n",
        "class Person:\n",
        "    def __init__(self, name, age):\n",
        "        self.name = name\n",
        "        self.age = age\n",
        "\n",
        "    def greet(self):\n",
        "        print(f\"Hello, my name is {self.name}.\")\n",
        "\n",
        "# Creating an instance of the class\n",
        "person1 = Person(\"Asim\", 25)\n",
        "person1.greet()  # Output: Hello, my name is Asim.\n",
        "print(type(person1))  # Output: <class '__main__.Person'>\n"
      ],
      "metadata": {
        "id": "00U0OExS0242"
      },
      "execution_count": null,
      "outputs": []
    },
    {
      "cell_type": "markdown",
      "source": [
        "---\n",
        "\n",
        "## Summary\n",
        "\n",
        "- Python provides several data types including **basic types** (int, float, complex, bool, str) and **container types** (list, tuple, set, dict).\n",
        "- You can define **user-defined types** using classes to create custom objects.\n",
        "- Use the `type()` function to check the data type of any object in Python.\n"
      ],
      "metadata": {
        "id": "Og1Wqh-j04M2"
      }
    }
  ]
}