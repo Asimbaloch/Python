{
  "nbformat": 4,
  "nbformat_minor": 0,
  "metadata": {
    "colab": {
      "provenance": [],
      "authorship_tag": "ABX9TyPEObqhZUEIJoKEA7F8HenB",
      "include_colab_link": true
    },
    "kernelspec": {
      "name": "python3",
      "display_name": "Python 3"
    },
    "language_info": {
      "name": "python"
    }
  },
  "cells": [
    {
      "cell_type": "markdown",
      "metadata": {
        "id": "view-in-github",
        "colab_type": "text"
      },
      "source": [
        "<a href=\"https://colab.research.google.com/github/Asimbaloch/Python/blob/main/03_comments.ipynb\" target=\"_parent\"><img src=\"https://colab.research.google.com/assets/colab-badge.svg\" alt=\"Open In Colab\"/></a>"
      ]
    },
    {
      "cell_type": "markdown",
      "source": [
        "# 03_Comments: Python Comments\n",
        "\n",
        "Comments are used to explain code and make it more readable. Python ignores comments, so they do not affect how the code runs. Comments are also useful for debugging or adding notes for future reference.\n",
        "\n",
        "---\n",
        "\n",
        "## Types of Comments in Python\n",
        "\n",
        "1. **Single-line Comments**\n",
        "2. **Multi-line Comments**\n",
        "\n",
        "---\n",
        "\n",
        "### 1. Single-line Comments\n",
        "\n",
        "A single-line comment starts with a `#` symbol and extends to the end of the line. These are used for short explanations.\n",
        "\n"
      ],
      "metadata": {
        "id": "DauYQlsi4IZY"
      }
    },
    {
      "cell_type": "code",
      "execution_count": null,
      "metadata": {
        "colab": {
          "base_uri": "https://localhost:8080/"
        },
        "id": "NjDgRh4s3aej",
        "outputId": "d25aea20-532c-4ff4-be43-b94b5bc07a42"
      },
      "outputs": [
        {
          "output_type": "stream",
          "name": "stdout",
          "text": [
            "5\n"
          ]
        }
      ],
      "source": [
        "# This is a single-line comment\n",
        "x = 5  # Assign 5 to x\n",
        "print(x)  # Output: 5\n"
      ]
    },
    {
      "cell_type": "markdown",
      "source": [
        "### 2. Multi-line Comments\n",
        "\n",
        "Python doesn't have a specific syntax for multi-line comments, but we can use a series of single-line comments or use multi-line strings (enclosed in `'''` or `\"\"\"`) to simulate multi-line comments.\n"
      ],
      "metadata": {
        "id": "ILFawJwa4L3P"
      }
    },
    {
      "cell_type": "code",
      "source": [
        "# This is a multi-line comment\n",
        "# spread across several lines.\n",
        "# It helps explain more complex logic.\n",
        "\n",
        "y = 10\n",
        "print(y)\n",
        "\n",
        "\"\"\"\n",
        "This is also a multi-line comment.\n",
        "It can span multiple lines and is enclosed\n",
        "in triple quotes ''' or \"\"\"\n",
        "\n",
        "\n",
        "\n",
        "z = 20\n",
        "print(z)\n"
      ],
      "metadata": {
        "colab": {
          "base_uri": "https://localhost:8080/"
        },
        "id": "_9-d-Uwq4M1e",
        "outputId": "353d5c4a-e5f6-4ef4-8622-a9073611a8c9"
      },
      "execution_count": null,
      "outputs": [
        {
          "output_type": "stream",
          "name": "stdout",
          "text": [
            "10\n",
            "20\n"
          ]
        }
      ]
    },
    {
      "cell_type": "markdown",
      "source": [
        "---\n",
        "\n",
        "## Why Use Comments?\n",
        "\n",
        "- **Documentation**: Comments help others (and your future self) understand what your code is doing.\n",
        "- **Debugging**: Temporarily disable a piece of code without deleting it.\n",
        "- **Collaboration**: Makes it easier for others to follow your logic when working on a team project.\n",
        "\n",
        "---\n",
        "\n",
        "### Best Practices for Comments\n",
        "\n",
        "- **Be concise**: Comments should be short and to the point.\n",
        "- **Explain why, not what**: The code itself should explain what it does; comments should explain why it does it.\n",
        "- **Keep comments up-to-date**: Make sure comments reflect the current state of the code, especially after updates.\n",
        "\n",
        "Example:\n"
      ],
      "metadata": {
        "id": "dobpbhpd4N8O"
      }
    },
    {
      "cell_type": "code",
      "source": [
        "# Bad comment:\n",
        "x = x + 1  # Adds 1 to x\n",
        "\n",
        "# Better comment:\n",
        "x = x + 1  # Increment x to keep track of iterations\n"
      ],
      "metadata": {
        "id": "9P-b9OAO4QSO"
      },
      "execution_count": null,
      "outputs": []
    },
    {
      "cell_type": "markdown",
      "source": [
        "---\n",
        "\n",
        "## Summary\n",
        "\n",
        "- Use comments to improve code readability and maintainability.\n",
        "- Single-line comments use the `#` symbol.\n",
        "- Multi-line comments can be achieved using either a series of `#` symbols or triple quotes `'''` or `\"\"\"`.\n"
      ],
      "metadata": {
        "id": "rMP3wFRw4RgL"
      }
    }
  ]
}