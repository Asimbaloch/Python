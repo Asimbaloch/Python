{
  "nbformat": 4,
  "nbformat_minor": 0,
  "metadata": {
    "colab": {
      "provenance": [],
      "authorship_tag": "ABX9TyNIC4RQXlm7xUlVfcmebzTV",
      "include_colab_link": true
    },
    "kernelspec": {
      "name": "python3",
      "display_name": "Python 3"
    },
    "language_info": {
      "name": "python"
    }
  },
  "cells": [
    {
      "cell_type": "markdown",
      "metadata": {
        "id": "view-in-github",
        "colab_type": "text"
      },
      "source": [
        "<a href=\"https://colab.research.google.com/github/Asimbaloch/Python/blob/main/04_Variables.ipynb\" target=\"_parent\"><img src=\"https://colab.research.google.com/assets/colab-badge.svg\" alt=\"Open In Colab\"/></a>"
      ]
    },
    {
      "cell_type": "markdown",
      "source": [
        "# 04_Variables: Python Variables\n",
        "\n",
        "In Python, **variables** are used to store data that can be referenced and manipulated later. Variables act as containers for data and help make code dynamic and flexible.\n",
        "\n",
        "---\n",
        "\n",
        "## Key Points about Variables:\n",
        "\n",
        "1. Variables are created the moment you assign a value to them.\n",
        "2. They do not need explicit declaration (no need to define their type).\n",
        "3. Variables can change type dynamically as needed.\n",
        "4. Variable names should be descriptive and follow naming conventions.\n",
        "\n",
        "---\n",
        "\n",
        "### Variable Naming Rules:\n",
        "- A variable name must start with a letter or an underscore (`_`).\n",
        "- A variable name cannot start with a number.\n",
        "- A variable name can only contain alpha-numeric characters and underscores (A-z, 0-9, and _ ).\n",
        "- Variable names are **case-sensitive** (`age`, `Age`, and `AGE` are different variables).\n",
        "\n"
      ],
      "metadata": {
        "id": "zLZqgCdp-rIm"
      }
    },
    {
      "cell_type": "code",
      "source": [
        "# Examples of variable assignment\n",
        "x = 5        # Integer assignment\n",
        "name = \"Asim\"  # String assignment\n",
        "pi = 3.14    # Float assignment\n",
        "\n",
        "# Variable reassignment\n",
        "x = 10  # x is now 10 instead of 5\n",
        "\n",
        "# Print variable values\n",
        "print(x)  # Output: 10\n",
        "print(name)  # Output: Asim\n",
        "print(pi)  # Output: 3.14\n"
      ],
      "metadata": {
        "id": "Z7ksxdlX-x4n"
      },
      "execution_count": null,
      "outputs": []
    },
    {
      "cell_type": "markdown",
      "source": [
        "---\n",
        "\n",
        "## Dynamic Typing in Python\n",
        "\n",
        "In Python, variables are dynamically typed, meaning the same variable can store different types of data during execution.\n",
        "\n"
      ],
      "metadata": {
        "id": "enneaEq1-xkr"
      }
    },
    {
      "cell_type": "code",
      "source": [
        "# Example of dynamic typing\n",
        "x = 10        # x is an integer\n",
        "x = \"Python\"  # x is now a string\n",
        "print(x)      # Output: Python\n"
      ],
      "metadata": {
        "id": "bpytRNnh-1Tx"
      },
      "execution_count": null,
      "outputs": []
    },
    {
      "cell_type": "markdown",
      "source": [
        "---\n",
        "\n",
        "## Multiple Variable Assignment\n",
        "\n",
        "Python allows you to assign values to multiple variables in one line.\n",
        "\n"
      ],
      "metadata": {
        "id": "uIv_p-pn-2Eo"
      }
    },
    {
      "cell_type": "code",
      "source": [
        "# Assigning multiple variables at once\n",
        "a, b, c = 1, 2, 3\n",
        "print(a, b, c)  # Output: 1 2 3\n",
        "\n",
        "# Assigning the same value to multiple variables\n",
        "x = y = z = 100\n",
        "print(x, y, z)  # Output: 100 100 100\n"
      ],
      "metadata": {
        "id": "7-Z-zHvc-3r5"
      },
      "execution_count": null,
      "outputs": []
    },
    {
      "cell_type": "markdown",
      "source": [
        "---\n",
        "\n",
        "## Swapping Variable Values\n",
        "\n",
        "You can easily swap the values of two variables in Python without needing a temporary variable.\n",
        "\n"
      ],
      "metadata": {
        "id": "YJXLSX0A-4z2"
      }
    },
    {
      "cell_type": "code",
      "source": [
        "# Swapping values of two variables\n",
        "x = 5\n",
        "y = 10\n",
        "\n",
        "x, y = y, x  # Swap x and y\n",
        "print(x, y)  # Output: 10 5\n"
      ],
      "metadata": {
        "id": "jNnppMIe-53I"
      },
      "execution_count": null,
      "outputs": []
    },
    {
      "cell_type": "markdown",
      "source": [
        "---\n",
        "\n",
        "## Best Practices for Variable Naming\n",
        "\n",
        "- Use meaningful names to describe the variable's purpose (e.g., `student_name`, `total_score`).\n",
        "- Avoid using single-letter variable names like `x` or `y` unless in a simple context.\n",
        "- Stick to lowercase letters, and separate words using underscores for readability (`snake_case`).\n",
        "\n",
        "---\n",
        "\n",
        "## Summary\n",
        "\n",
        "- Variables in Python are dynamically typed and can store any type of data.\n",
        "- Use meaningful variable names to make your code easier to understand.\n",
        "- You can assign values to multiple variables in one line and even swap values easily.\n"
      ],
      "metadata": {
        "id": "lB90fY7i-7FI"
      }
    }
  ]
}