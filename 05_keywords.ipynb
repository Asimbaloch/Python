{
  "nbformat": 4,
  "nbformat_minor": 0,
  "metadata": {
    "colab": {
      "provenance": [],
      "authorship_tag": "ABX9TyPtdav0algEO2V7L2Iku/ML",
      "include_colab_link": true
    },
    "kernelspec": {
      "name": "python3",
      "display_name": "Python 3"
    },
    "language_info": {
      "name": "python"
    }
  },
  "cells": [
    {
      "cell_type": "markdown",
      "metadata": {
        "id": "view-in-github",
        "colab_type": "text"
      },
      "source": [
        "<a href=\"https://colab.research.google.com/github/Asimbaloch/Python/blob/main/05_keywords.ipynb\" target=\"_parent\"><img src=\"https://colab.research.google.com/assets/colab-badge.svg\" alt=\"Open In Colab\"/></a>"
      ]
    },
    {
      "cell_type": "markdown",
      "source": [
        "# 05_Keywords and Identifiers: Python Keywords and Identifiers\n",
        "\n",
        "In Python, **keywords** and **identifiers** are fundamental elements of the language syntax. Understanding these concepts is essential to writing clean and correct code.\n",
        "\n",
        "---\n",
        "\n",
        "## Keywords in Python\n",
        "\n",
        "**Keywords** are reserved words in Python that have special meanings. They form the building blocks of Python syntax and cannot be used as variable names, function names, or any other identifiers. Python keywords are case-sensitive.\n",
        "\n",
        "---\n",
        "\n",
        "### List of Python Keywords:\n",
        "Some common Python keywords include:\n",
        "\n",
        "- **`and`**, **`or`**, **`not`**: Logical operators\n",
        "- **`if`**, **`else`**, **`elif`**: Conditional statements\n",
        "- **`for`**, **`while`**: Looping constructs\n",
        "- **`def`**: Define a function\n",
        "- **`return`**: Return from a function\n",
        "- **`class`**: Define a class\n",
        "- **`import`**: Import a module\n",
        "- **`True`**, **`False`**: Boolean values\n",
        "- **`None`**: Represents no value\n",
        "- **`try`**, **`except`**: Error handling\n",
        "\n",
        "You can view all Python keywords using the `keyword` module.\n",
        "\n"
      ],
      "metadata": {
        "id": "V1X4c0TYDh2H"
      }
    },
    {
      "cell_type": "code",
      "execution_count": 1,
      "metadata": {
        "colab": {
          "base_uri": "https://localhost:8080/"
        },
        "id": "C3WNPOKADgdA",
        "outputId": "e62c6530-e639-492a-ef4b-cf526334e4d7"
      },
      "outputs": [
        {
          "output_type": "stream",
          "name": "stdout",
          "text": [
            "['False', 'None', 'True', 'and', 'as', 'assert', 'async', 'await', 'break', 'class', 'continue', 'def', 'del', 'elif', 'else', 'except', 'finally', 'for', 'from', 'global', 'if', 'import', 'in', 'is', 'lambda', 'nonlocal', 'not', 'or', 'pass', 'raise', 'return', 'try', 'while', 'with', 'yield']\n"
          ]
        }
      ],
      "source": [
        "import keyword\n",
        "print(keyword.kwlist)"
      ]
    },
    {
      "cell_type": "markdown",
      "source": [
        "---\n",
        "\n",
        "## Identifiers in Python\n",
        "\n",
        "**Identifiers** are names given to variables, functions, classes, or objects in Python. They are user-defined names used to identify elements within the code.\n",
        "\n",
        "---\n",
        "\n",
        "### Rules for Naming Identifiers:\n",
        "1. An identifier can contain letters (A-Z, a-z), digits (0-9), and underscores (`_`).\n",
        "2. An identifier cannot start with a digit (e.g., `1variable` is invalid).\n",
        "3. Keywords cannot be used as identifiers.\n",
        "4. Identifiers are case-sensitive (`age`, `Age`, and `AGE` are different).\n",
        "5. Special characters such as `@`, `!`, `#`, `$`, etc., are not allowed.\n",
        "\n"
      ],
      "metadata": {
        "id": "u2tjL92HD71m"
      }
    },
    {
      "cell_type": "code",
      "source": [
        "# Examples of valid identifiers\n",
        "student_name = \"John\"  # Valid\n",
        "age1 = 21              # Valid\n",
        "_total = 100           # Valid\n"
      ],
      "metadata": {
        "id": "0Nw0Bd5BD8rM"
      },
      "execution_count": null,
      "outputs": []
    },
    {
      "cell_type": "markdown",
      "source": [
        "---\n",
        "\n",
        "### Best Practices for Identifiers:\n",
        "- **Meaningful names**: Always choose meaningful and descriptive names for identifiers (e.g., `student_name` instead of `s`).\n",
        "- **Use snake_case**: Use underscores to separate words for better readability (e.g., `total_amount`).\n",
        "- **Avoid starting with underscores**: Although allowed, identifiers starting with underscores (`_`) are typically reserved for special use cases or conventions (e.g., `private` variables in classes).\n",
        "\n",
        "---\n",
        "\n",
        "## Differences Between Keywords and Identifiers:\n",
        "\n",
        "- **Keywords** are predefined and reserved by Python. They have specific meanings and functions.\n",
        "- **Identifiers** are user-defined names to represent variables, functions, classes, and more. They must follow specific rules but are flexible and can be customized.\n"
      ],
      "metadata": {
        "id": "vFNAEdvyD930"
      }
    },
    {
      "cell_type": "markdown",
      "source": [
        "---\n",
        "\n",
        "## Summary\n",
        "\n",
        "- **Keywords** are reserved words in Python that cannot be used as identifiers.\n",
        "- **Identifiers** are user-defined names for variables, functions, classes, etc.\n",
        "- Follow best practices for naming identifiers to write clear and maintainable code.\n",
        "- Use the `keyword` module to view all Python keywords.\n"
      ],
      "metadata": {
        "id": "LCX517QwEAG_"
      }
    }
  ]
}