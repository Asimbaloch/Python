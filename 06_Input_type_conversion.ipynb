{
  "nbformat": 4,
  "nbformat_minor": 0,
  "metadata": {
    "colab": {
      "provenance": [],
      "authorship_tag": "ABX9TyNGUpobcp0WJzkFhNOQ3toV",
      "include_colab_link": true
    },
    "kernelspec": {
      "name": "python3",
      "display_name": "Python 3"
    },
    "language_info": {
      "name": "python"
    }
  },
  "cells": [
    {
      "cell_type": "markdown",
      "metadata": {
        "id": "view-in-github",
        "colab_type": "text"
      },
      "source": [
        "<a href=\"https://colab.research.google.com/github/Asimbaloch/Python/blob/main/06_Input_type_conversion.ipynb\" target=\"_parent\"><img src=\"https://colab.research.google.com/assets/colab-badge.svg\" alt=\"Open In Colab\"/></a>"
      ]
    },
    {
      "cell_type": "markdown",
      "source": [
        "# 06_Taking User Input and Type Conversion\n",
        "\n",
        "## `input()` Function\n",
        "\n",
        "The `input()` function in Python is used to take input from the user. It reads a line of text from the console and returns it as a **string**. You can also provide a prompt message to the user by passing a string inside the `input()` function.\n",
        "\n",
        "### Syntax of `input()`\n",
        "\n",
        "```python\n",
        "input(prompt)\n"
      ],
      "metadata": {
        "id": "FBdBpb5Z0sKX"
      }
    },
    {
      "cell_type": "code",
      "source": [
        "name = input(\"Enter your name: \")\n",
        "print(\"Hello, \" + name + \"!\")"
      ],
      "metadata": {
        "colab": {
          "base_uri": "https://localhost:8080/"
        },
        "id": "VKf9NEzy0vKl",
        "outputId": "db0631cc-5c44-4ed3-c038-0856714e1e2b"
      },
      "execution_count": null,
      "outputs": [
        {
          "output_type": "stream",
          "name": "stdout",
          "text": [
            "Enter your name: asim\n",
            "Hello, asim!\n"
          ]
        }
      ]
    },
    {
      "cell_type": "markdown",
      "source": [
        "## Type Conversion\n",
        "\n",
        "Since the `input()` function returns the input as a string, you often need to convert the string into the desired data type, such as an integer, float, or boolean.\n",
        "\n",
        "### Common Type Conversion Functions\n",
        "\n",
        "*   **`int()`**: Converts a string to an integer.\n",
        "*   **`float()`**: Converts a string to a floating-point number.\n",
        "*   **`str()`**: Converts a value into a string.\n",
        "*   **`bool()`**: Converts a value into a boolean."
      ],
      "metadata": {
        "id": "eJ19MA5-1LRj"
      }
    },
    {
      "cell_type": "markdown",
      "source": [
        "##Example of Type Conversion\n"
      ],
      "metadata": {
        "id": "ImxoN9Xc1bli"
      }
    },
    {
      "cell_type": "code",
      "source": [
        "age = input (\"What is your age\")\n",
        "age= int (age)\n",
        "print (age)\n",
        "\n",
        "print (type(age))"
      ],
      "metadata": {
        "colab": {
          "base_uri": "https://localhost:8080/"
        },
        "id": "rftO3PdN1bDI",
        "outputId": "1f84d20f-7601-41b5-ef00-842db18a63e4"
      },
      "execution_count": null,
      "outputs": [
        {
          "output_type": "stream",
          "name": "stdout",
          "text": [
            "What is your age22\n",
            "22\n",
            "<class 'int'>\n"
          ]
        }
      ]
    },
    {
      "cell_type": "code",
      "source": [
        "# Taking integer input directly\n",
        "age = int(input(\"Enter your age: \"))\n",
        "print(f\"You are {age} years old.\")\n"
      ],
      "metadata": {
        "colab": {
          "base_uri": "https://localhost:8080/"
        },
        "id": "lI5LRrzS10HR",
        "outputId": "fcf46b29-399b-4e7b-dc7b-21b43f6cb019"
      },
      "execution_count": null,
      "outputs": [
        {
          "output_type": "stream",
          "name": "stdout",
          "text": [
            "Enter your age: 22\n",
            "You are 22 years old.\n"
          ]
        }
      ]
    },
    {
      "cell_type": "code",
      "source": [
        "# Taking multiple inputs\n",
        "x, y = input(\"Enter two numbers separated by space: \").split()\n",
        "x = int(x)\n",
        "y = int(y)\n",
        "print(f\"The sum of {x} and {y} is {x + y}\")\n"
      ],
      "metadata": {
        "colab": {
          "base_uri": "https://localhost:8080/"
        },
        "id": "k6Q0GJof17Rg",
        "outputId": "0f014b56-5030-4ba0-8421-0913318a8d5b"
      },
      "execution_count": null,
      "outputs": [
        {
          "output_type": "stream",
          "name": "stdout",
          "text": [
            "Enter two numbers separated by space: 2 2\n",
            "The sum of 2 and 2 is 4\n"
          ]
        }
      ]
    },
    {
      "cell_type": "markdown",
      "source": [
        "## Summary\n",
        "\n",
        "*   Use `input()` to take user input.\n",
        "*   Convert the input using functions like `int()`, `float()`, and `bool()` for type conversion.\n",
        "*   You can chain the `input()` function with type conversion to directly get the desired data type.\n",
        "*   Use `split()` to take multiple inputs at once."
      ],
      "metadata": {
        "id": "vbq2od8b2iuG"
      }
    }
  ]
}