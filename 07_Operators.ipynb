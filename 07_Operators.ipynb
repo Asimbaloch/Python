{
  "nbformat": 4,
  "nbformat_minor": 0,
  "metadata": {
    "colab": {
      "provenance": [],
      "authorship_tag": "ABX9TyN3OnNEGd67J6YVgwzgzaBn",
      "include_colab_link": true
    },
    "kernelspec": {
      "name": "python3",
      "display_name": "Python 3"
    },
    "language_info": {
      "name": "python"
    }
  },
  "cells": [
    {
      "cell_type": "markdown",
      "metadata": {
        "id": "view-in-github",
        "colab_type": "text"
      },
      "source": [
        "<a href=\"https://colab.research.google.com/github/Asimbaloch/Python/blob/main/07_Operators.ipynb\" target=\"_parent\"><img src=\"https://colab.research.google.com/assets/colab-badge.svg\" alt=\"Open In Colab\"/></a>"
      ]
    },
    {
      "cell_type": "markdown",
      "source": [
        "# 07_Operators: Python Operators\n",
        "\n",
        "In Python, **operators** are used to perform operations on variables and values. Python provides a rich set of operators that can be used in mathematical, logical, and other types of operations.\n",
        "\n",
        "---\n",
        "\n",
        "## Types of Operators in Python\n",
        "\n",
        "1. **Arithmetic operators**\n",
        "2. **Comparison operators**\n",
        "3. **Logical operators**\n",
        "4. **Bitwise operators**\n",
        "5. **Assignment operators**\n",
        "6. **Identity operators**\n",
        "7. **Membership operators**\n",
        "\n",
        "---\n",
        "\n",
        "## 1. Arithmetic Operators\n",
        "\n",
        "Arithmetic operators are used to perform mathematical operations like addition, subtraction, multiplication, etc.\n",
        "\n",
        "| Operator | Name           | Example     |\n",
        "|----------|----------------|-------------|\n",
        "| +        | Addition        | `x + y`     |\n",
        "| -        | Subtraction     | `x - y`     |\n",
        "| *        | Multiplication  | `x * y`     |\n",
        "| /        | Division        | `x / y`     |\n",
        "| %        | Modulus         | `x % y`     |\n",
        "| **       | Exponentiation  | `x ** y`    |\n",
        "| //       | Floor Division  | `x // y`    |"
      ],
      "metadata": {
        "id": "6Cqu_r1phRHG"
      }
    },
    {
      "cell_type": "code",
      "source": [
        "# Examples of arithmetic operators (Mathematical Operations)\n",
        "x = 10\n",
        "y = 3\n",
        "\n",
        "print(x + y)  # Addition: 13\n",
        "print(x - y)  # Subtraction: 7\n",
        "print(x * y)  # Multiplication: 30\n",
        "print(x / y)  # Division: 3.3333\n",
        "print(x % y)  # Modulus: 1\n",
        "print(x ** y) # Exponentiation: 1000 (Power of)\n",
        "print(x // y) # Floor Division: 3 (Integer Division)"
      ],
      "metadata": {
        "colab": {
          "base_uri": "https://localhost:8080/"
        },
        "id": "52eoUtQChTTN",
        "outputId": "bfbe701f-48c1-4eb5-af7e-f67568d8a827"
      },
      "execution_count": 1,
      "outputs": [
        {
          "output_type": "stream",
          "name": "stdout",
          "text": [
            "13\n",
            "7\n",
            "30\n",
            "3.3333333333333335\n",
            "1\n",
            "1000\n",
            "3\n"
          ]
        }
      ]
    },
    {
      "cell_type": "markdown",
      "source": [
        "##2. Comparison Operators\n",
        "Comparison operators are used to compare two values. The result of a comparison is either True or False.\n",
        "\n"
      ],
      "metadata": {
        "id": "TM4KWoWGhaWc"
      }
    },
    {
      "cell_type": "code",
      "source": [
        "# Examples of comparison operators\n",
        "x = 10\n",
        "y = 20\n",
        "\n",
        "print(x == y)  # False\n",
        "print(x != y)  # True\n",
        "print(x > y)   # False\n",
        "print(x < y)   # True\n"
      ],
      "metadata": {
        "colab": {
          "base_uri": "https://localhost:8080/"
        },
        "id": "EJgtfbh7hmGo",
        "outputId": "12f80538-613f-47ef-e406-57d68b5b038f"
      },
      "execution_count": 2,
      "outputs": [
        {
          "output_type": "stream",
          "name": "stdout",
          "text": [
            "False\n",
            "True\n",
            "False\n",
            "True\n"
          ]
        }
      ]
    },
    {
      "cell_type": "markdown",
      "source": [
        "##3. Logical Operators\n",
        "Logical operators are used to combine conditional statements.\n",
        "\n"
      ],
      "metadata": {
        "id": "R26OTra1hn0E"
      }
    },
    {
      "cell_type": "code",
      "source": [
        "# Examples of logical operators\n",
        "x = True\n",
        "y = False\n",
        "\n",
        "print(x and y)  # False\n",
        "print(x or y)   # True\n",
        "print(not x)    # False"
      ],
      "metadata": {
        "colab": {
          "base_uri": "https://localhost:8080/"
        },
        "id": "Cwmf24QWhqBi",
        "outputId": "9e9872ef-ef57-4027-fd65-004e4d734ad3"
      },
      "execution_count": 3,
      "outputs": [
        {
          "output_type": "stream",
          "name": "stdout",
          "text": [
            "False\n",
            "True\n",
            "False\n"
          ]
        }
      ]
    },
    {
      "cell_type": "markdown",
      "source": [
        "##4. Bitwise Operators\n",
        "Bitwise operators perform bit-level operations on binary numbers.\n"
      ],
      "metadata": {
        "id": "9WAP2Gv7hwcs"
      }
    },
    {
      "cell_type": "code",
      "source": [
        "# Examples of bitwise operators\n",
        "x = 10  # 1010 in binary\n",
        "y = 4   # 0100 in binary\n",
        "\n",
        "print(x & y)   # AND: 0 (0000 in binary)\n",
        "print(x | y)   # OR: 14 (1110 in binary)\n",
        "print(x ^ y)   # XOR: 14 (1110 in binary)\n",
        "print(~x)      # NOT: -11 (inverts all bits)\n",
        "print(x << 2)  # Left Shift: 40 (101000)\n",
        "print(x >> 2)  # Right Shift: 2 (0010)\n"
      ],
      "metadata": {
        "colab": {
          "base_uri": "https://localhost:8080/"
        },
        "id": "DEajthnqhzIY",
        "outputId": "db125b77-d2c0-4ceb-af00-1c8c2fd9bbb1"
      },
      "execution_count": 4,
      "outputs": [
        {
          "output_type": "stream",
          "name": "stdout",
          "text": [
            "0\n",
            "14\n",
            "14\n",
            "-11\n",
            "40\n",
            "2\n"
          ]
        }
      ]
    },
    {
      "cell_type": "markdown",
      "source": [
        "##5. Assignment Operators\n",
        "Assignment operators are used to assign values to variables.\n",
        "\n"
      ],
      "metadata": {
        "id": "WKK8DqzTh01B"
      }
    },
    {
      "cell_type": "code",
      "source": [
        "# Examples of assignment operators\n",
        "x = 10\n",
        "x += 5\n",
        "print(x)  # Output: 15\n",
        "\n",
        "x *= 2\n",
        "print(x)  # Output: 30\n"
      ],
      "metadata": {
        "colab": {
          "base_uri": "https://localhost:8080/"
        },
        "id": "KbTeY_iUnAiY",
        "outputId": "9b3376f0-16a9-4976-c523-f9824a180037"
      },
      "execution_count": 5,
      "outputs": [
        {
          "output_type": "stream",
          "name": "stdout",
          "text": [
            "15\n",
            "30\n"
          ]
        }
      ]
    },
    {
      "cell_type": "markdown",
      "source": [
        "##6. Identity Operators\n",
        "Identity operators are used to compare the memory locations of two objects.\n",
        "\n"
      ],
      "metadata": {
        "id": "AFNpRErhh5lR"
      }
    },
    {
      "cell_type": "code",
      "source": [
        "# Examples of identity operators\n",
        "x = [1, 2, 3]\n",
        "y = [1, 2, 3]\n",
        "z = x\n",
        "\n",
        "print(x is z)    # True (same memory location)\n",
        "print(x is y)    # False (different memory locations)\n",
        "print(x == y)    # True (same values)\n"
      ],
      "metadata": {
        "colab": {
          "base_uri": "https://localhost:8080/"
        },
        "id": "909gFvXkh8Y7",
        "outputId": "c709d74d-e07a-4a60-8fc1-728c37ecf61f"
      },
      "execution_count": 6,
      "outputs": [
        {
          "output_type": "stream",
          "name": "stdout",
          "text": [
            "True\n",
            "False\n",
            "True\n"
          ]
        }
      ]
    },
    {
      "cell_type": "markdown",
      "source": [
        "##7. Membership Operators\n"
      ],
      "metadata": {
        "id": "_8TDwkurh9u3"
      }
    },
    {
      "cell_type": "code",
      "source": [
        "# Examples of membership operators\n",
        "x = [1, 2, 3]\n",
        "\n",
        "print(1 in x)     # True\n",
        "print(5 in x)     # False\n",
        "print(5 not in x) # True\n"
      ],
      "metadata": {
        "colab": {
          "base_uri": "https://localhost:8080/"
        },
        "id": "za7xAQfYh_AS",
        "outputId": "2d13330a-5e66-4c17-e287-91ce9d12b893"
      },
      "execution_count": 7,
      "outputs": [
        {
          "output_type": "stream",
          "name": "stdout",
          "text": [
            "True\n",
            "False\n",
            "True\n"
          ]
        }
      ]
    },
    {
      "cell_type": "markdown",
      "source": [
        "##Summary\n",
        "\n",
        "\n",
        "*   Python provides several types of operators to perform different operations on variables and values.\n",
        "*   These operators include arithmetic, comparison, logical, bitwise, assignment, identity, and membership operators.\n",
        "\n",
        "*   Understanding and using these operators effectively can help you perform various tasks in Python programming.\n",
        "\n",
        "\n",
        "\n",
        "\n"
      ],
      "metadata": {
        "id": "wH1oJU90ij2y"
      }
    }
  ]
}