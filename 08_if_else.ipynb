{
  "nbformat": 4,
  "nbformat_minor": 0,
  "metadata": {
    "colab": {
      "provenance": [],
      "authorship_tag": "ABX9TyOvbs5EIBKETeFHrNVzDyFU",
      "include_colab_link": true
    },
    "kernelspec": {
      "name": "python3",
      "display_name": "Python 3"
    },
    "language_info": {
      "name": "python"
    }
  },
  "cells": [
    {
      "cell_type": "markdown",
      "metadata": {
        "id": "view-in-github",
        "colab_type": "text"
      },
      "source": [
        "<a href=\"https://colab.research.google.com/github/Asimbaloch/Python/blob/main/08_if_else.ipynb\" target=\"_parent\"><img src=\"https://colab.research.google.com/assets/colab-badge.svg\" alt=\"Open In Colab\"/></a>"
      ]
    },
    {
      "cell_type": "markdown",
      "source": [
        "# 08_if-else: Conditional Statements in Python\n",
        "\n",
        "In Python, conditional statements allow you to control the flow of your program. The most common way to do this is with the `if`, `else`, and `elif` (else if) statements. These statements are used to execute code based on certain conditions.\n",
        "\n",
        "---\n",
        "\n",
        "## The `if` Statement\n",
        "\n",
        "The `if` statement is used to test a condition. If the condition is `True`, the block of code inside the `if` statement is executed. If it is `False`, the block of code is skipped.\n",
        "\n"
      ],
      "metadata": {
        "id": "1NojJfnephYl"
      }
    },
    {
      "cell_type": "code",
      "source": [
        "x = 10\n",
        "if x > 5:\n",
        "    print(\"x is greater than 5\")"
      ],
      "metadata": {
        "id": "3uxbARlbplkO"
      },
      "execution_count": null,
      "outputs": []
    },
    {
      "cell_type": "markdown",
      "source": [
        "##The else Statement\n",
        "The else statement is used to define a block of code that will execute if the condition in the if statement is False.\n"
      ],
      "metadata": {
        "id": "jVeL-VO5pqid"
      }
    },
    {
      "cell_type": "code",
      "source": [
        "x = 3\n",
        "if x > 5:\n",
        "    print(\"x is greater than 5\")\n",
        "else:\n",
        "    print(\"x is less than or equal to 5\")\n"
      ],
      "metadata": {
        "id": "j9QHIJWVpmRl"
      },
      "execution_count": null,
      "outputs": []
    },
    {
      "cell_type": "markdown",
      "source": [
        "##The elif Statement\n",
        "The elif (short for else if) statement allows you to check multiple conditions. If the first if condition is False, Python checks the conditions in each elif block sequentially. If none of the conditions are True, the else block is executed.\n"
      ],
      "metadata": {
        "id": "iJBAjm7Apvum"
      }
    },
    {
      "cell_type": "code",
      "source": [
        "x = 15\n",
        "if x > 20:\n",
        "    print(\"x is greater than 20\")\n",
        "elif x > 10:\n",
        "    print(\"x is greater than 10 but less than or equal to 20\")\n",
        "else:\n",
        "    print(\"x is 10 or less\")"
      ],
      "metadata": {
        "id": "AWSe180Ypz6N"
      },
      "execution_count": null,
      "outputs": []
    },
    {
      "cell_type": "markdown",
      "source": [
        "##Using Multiple Conditions\n",
        "You can use logical operators (and, or, not) to combine multiple conditions.\n"
      ],
      "metadata": {
        "id": "LzCGdXJap364"
      }
    },
    {
      "cell_type": "code",
      "source": [
        "x = 8\n",
        "y = 12\n",
        "\n",
        "if x > 5 and y > 10:\n",
        "    print(\"Both conditions are True\")\n",
        "else:\n",
        "    print(\"One or both conditions are False\")"
      ],
      "metadata": {
        "id": "zGDx2_RAp6fk"
      },
      "execution_count": null,
      "outputs": []
    },
    {
      "cell_type": "markdown",
      "source": [
        "##Nested if Statements\n"
      ],
      "metadata": {
        "id": "XM9q_iEGp7-E"
      }
    },
    {
      "cell_type": "code",
      "source": [
        "x = 7\n",
        "\n",
        "if x > 5:\n",
        "    print(\"x is greater than 5\")\n",
        "    if x % 2 == 0:\n",
        "        print(\"x is even\")\n",
        "    else:\n",
        "        print(\"x is odd\")\n"
      ],
      "metadata": {
        "id": "EJmne8cfp9i9"
      },
      "execution_count": null,
      "outputs": []
    },
    {
      "cell_type": "markdown",
      "source": [
        "#Real World Example"
      ],
      "metadata": {
        "id": "9ScOGLBuqBXc"
      }
    },
    {
      "cell_type": "markdown",
      "source": [
        "# Real-World Example: Login System\n",
        "\n",
        "In real-world applications like websites or apps, users need to provide their email and password to log in. Below is a simple example of a login system where:\n",
        "\n",
        "- First, the user enters their email.\n",
        "- If the email matches the stored email, the system prompts for the password.\n",
        "- If both the email and password are correct, the user is granted access.\n",
        "- If either is wrong, an appropriate error message is shown."
      ],
      "metadata": {
        "id": "S5UJ80ioqWEW"
      }
    },
    {
      "cell_type": "code",
      "source": [
        "\n",
        "\n",
        "# Predefined correct credentials\n",
        "stored_email = \"user@example.com\"\n",
        "stored_password = \"Password123\"\n",
        "\n",
        "# Step 1: Ask the user to input their email\n",
        "input_email = input(\"Enter your email: \")\n",
        "\n",
        "if input_email == stored_email:\n",
        "    # Step 2: If email is correct, ask for the password\n",
        "    input_password = input(\"Enter your password: \")\n",
        "\n",
        "    if input_password == stored_password:\n",
        "        print(\"Login successful! Welcome.\")\n",
        "    else:\n",
        "        print(\"Incorrect password. Please try again.\")\n",
        "elif input_email != stored_email:\n",
        "    print(\"Email not found. Please check your email or register.\")\n"
      ],
      "metadata": {
        "colab": {
          "base_uri": "https://localhost:8080/"
        },
        "id": "OaycyKcUqF_K",
        "outputId": "0d6fdf73-4ca2-423b-eabf-652c95c60133"
      },
      "execution_count": 4,
      "outputs": [
        {
          "output_type": "stream",
          "name": "stdout",
          "text": [
            "Enter your email: user@example.com\n",
            "Enter your password: Password123\n",
            "Login successful! Welcome.\n"
          ]
        }
      ]
    },
    {
      "cell_type": "code",
      "source": [],
      "metadata": {
        "id": "cffWiz1eqe5M"
      },
      "execution_count": null,
      "outputs": []
    }
  ]
}