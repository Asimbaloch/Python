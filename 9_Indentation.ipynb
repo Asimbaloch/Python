{
  "nbformat": 4,
  "nbformat_minor": 0,
  "metadata": {
    "colab": {
      "provenance": [],
      "authorship_tag": "ABX9TyOV0GeUZdaJiAlzjurezUYt",
      "include_colab_link": true
    },
    "kernelspec": {
      "name": "python3",
      "display_name": "Python 3"
    },
    "language_info": {
      "name": "python"
    }
  },
  "cells": [
    {
      "cell_type": "markdown",
      "metadata": {
        "id": "view-in-github",
        "colab_type": "text"
      },
      "source": [
        "<a href=\"https://colab.research.google.com/github/Asimbaloch/Python/blob/main/9_Indentation.ipynb\" target=\"_parent\"><img src=\"https://colab.research.google.com/assets/colab-badge.svg\" alt=\"Open In Colab\"/></a>"
      ]
    },
    {
      "cell_type": "markdown",
      "source": [
        "# 09_Indentation: Understanding Indentation in Python\n",
        "\n",
        "### What is Indentation?\n",
        "\n",
        "Indentation refers to the spaces or tabs used at the beginning of a line to define the scope or block of code. In Python, indentation is **very important** because it determines how statements are grouped together.\n",
        "\n",
        "Unlike many other programming languages that use braces `{}` or keywords to define code blocks, Python uses indentation.\n",
        "\n",
        "---\n",
        "\n",
        "### Why is Indentation Important in Python?\n",
        "\n",
        "- **Defines Blocks of Code**: Indentation is used to group code into blocks (e.g., code inside loops, functions, conditionals).\n",
        "- **Mandatory in Python**: Python will raise an error if the indentation is not consistent or missing.\n",
        "- **Readability**: Indentation improves the readability of code by showing its structure.\n",
        "\n",
        "---\n",
        "\n",
        "### Rules for Indentation:\n",
        "- Python recommends using **4 spaces** for indentation.\n",
        "- **Tabs** can also be used, but it is advised not to mix tabs and spaces within the same block of code.\n",
        "- Indentation level within a block must be consistent.\n",
        "\n"
      ],
      "metadata": {
        "id": "5pdC2vZQALTH"
      }
    },
    {
      "cell_type": "code",
      "execution_count": 1,
      "metadata": {
        "colab": {
          "base_uri": "https://localhost:8080/",
          "height": 110
        },
        "id": "ataaSn41AKzY",
        "outputId": "d4388b05-3442-44a9-e18b-7cdb06c69d63"
      },
      "outputs": [
        {
          "output_type": "error",
          "ename": "IndentationError",
          "evalue": "unexpected indent (<ipython-input-1-a9698e2cab1d>, line 6)",
          "traceback": [
            "\u001b[0;36m  File \u001b[0;32m\"<ipython-input-1-a9698e2cab1d>\"\u001b[0;36m, line \u001b[0;32m6\u001b[0m\n\u001b[0;31m    print(\"This line is incorrectly indented!\")  # IndentationError\u001b[0m\n\u001b[0m    ^\u001b[0m\n\u001b[0;31mIndentationError\u001b[0m\u001b[0;31m:\u001b[0m unexpected indent\n"
          ]
        }
      ],
      "source": [
        "# Example of incorrect indentation\n",
        "age = 20\n",
        "\n",
        "if age >= 18:\n",
        "    print(\"You are an adult.\")\n",
        "      print(\"This line is incorrectly indented!\")  # IndentationError\n",
        "else:\n",
        "    print(\"You are a minor.\")\n"
      ]
    },
    {
      "cell_type": "code",
      "source": [
        "# Nested if-else with correct indentation\n",
        "age = 20\n",
        "is_student = True\n",
        "\n",
        "if age >= 18:\n",
        "    print(\"You are an adult.\")\n",
        "\n",
        "    if is_student:\n",
        "        print(\"You are also a student.\")  # Nested 'if' block\n",
        "    else:\n",
        "        print(\"You are not a student.\")  # Nested 'else' block\n",
        "else:\n",
        "    print(\"You are a minor.\")\n"
      ],
      "metadata": {
        "colab": {
          "base_uri": "https://localhost:8080/"
        },
        "id": "-KpG74yqAXyt",
        "outputId": "716310c3-99d0-4d09-bb8e-18e78d98d33a"
      },
      "execution_count": 2,
      "outputs": [
        {
          "output_type": "stream",
          "name": "stdout",
          "text": [
            "You are an adult.\n",
            "You are also a student.\n"
          ]
        }
      ]
    },
    {
      "cell_type": "code",
      "source": [
        "# Real-world example: Checking age and membership status\n",
        "age = 22\n",
        "is_member = True\n",
        "\n",
        "if age >= 18:\n",
        "    print(\"Welcome, you are eligible for an account.\")\n",
        "\n",
        "    if is_member:\n",
        "        print(\"Thank you for being a loyal member!\")\n",
        "    else:\n",
        "        print(\"Please sign up for membership to enjoy benefits.\")\n",
        "else:\n",
        "    print(\"Sorry, you must be 18 or older to create an account.\")\n"
      ],
      "metadata": {
        "colab": {
          "base_uri": "https://localhost:8080/"
        },
        "id": "qKLNBuyAAajz",
        "outputId": "675f8a82-0ab0-4e5c-8257-0bab315bb27c"
      },
      "execution_count": 3,
      "outputs": [
        {
          "output_type": "stream",
          "name": "stdout",
          "text": [
            "Welcome, you are eligible for an account.\n",
            "Thank you for being a loyal member!\n"
          ]
        }
      ]
    }
  ]
}