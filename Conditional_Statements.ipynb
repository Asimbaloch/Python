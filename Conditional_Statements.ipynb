{
  "nbformat": 4,
  "nbformat_minor": 0,
  "metadata": {
    "colab": {
      "provenance": [],
      "authorship_tag": "ABX9TyOo+QUXfaBZoKTAQzBPACWc",
      "include_colab_link": true
    },
    "kernelspec": {
      "name": "python3",
      "display_name": "Python 3"
    },
    "language_info": {
      "name": "python"
    }
  },
  "cells": [
    {
      "cell_type": "markdown",
      "metadata": {
        "id": "view-in-github",
        "colab_type": "text"
      },
      "source": [
        "<a href=\"https://colab.research.google.com/github/Asimbaloch/Python/blob/main/Conditional_Statements.ipynb\" target=\"_parent\"><img src=\"https://colab.research.google.com/assets/colab-badge.svg\" alt=\"Open In Colab\"/></a>"
      ]
    },
    {
      "cell_type": "markdown",
      "source": [
        "#Conditional Statements:"
      ],
      "metadata": {
        "id": "skMkxaHX_TM8"
      }
    },
    {
      "cell_type": "markdown",
      "source": [
        "In Python, conditional statements allow you to control the flow of your program by executing different pieces of code based on certain conditions. The most common conditional statements are if, elif, and else."
      ],
      "metadata": {
        "id": "tIILN_DB82DF"
      }
    },
    {
      "cell_type": "markdown",
      "source": [
        "**1. The if Statement :**\\\n",
        "The if statement is used to test whether a condition is true. If the condition is True, the block of code under the if statement will execute."
      ],
      "metadata": {
        "id": "0-xDYthn9UZZ"
      }
    },
    {
      "cell_type": "code",
      "execution_count": 7,
      "metadata": {
        "colab": {
          "base_uri": "https://localhost:8080/"
        },
        "id": "vzw2E0P2_Ojh",
        "outputId": "f6f0aad1-866e-4405-a76d-7f70bd17615e"
      },
      "outputs": [
        {
          "output_type": "stream",
          "name": "stdout",
          "text": [
            "x is greater than 3\n"
          ]
        }
      ],
      "source": [
        "x =5\n",
        "if x>3:\n",
        "  print(\"x is greater than 3\")"
      ]
    },
    {
      "cell_type": "markdown",
      "source": [
        "**2. The else Statement**\\\n",
        "The else block allows you to specify what should happen if the if condition evaluates to False."
      ],
      "metadata": {
        "id": "ScwIBUBk9n_2"
      }
    },
    {
      "cell_type": "code",
      "source": [
        "x = 5\n",
        "if x >6:\n",
        "  print (\"x is grater than six\")\n",
        "else:\n",
        "  print(\"x is not greater than 6\")"
      ],
      "metadata": {
        "colab": {
          "base_uri": "https://localhost:8080/"
        },
        "id": "FadYK61P9noi",
        "outputId": "3abc23b4-fa43-4f48-933e-4907dd732773"
      },
      "execution_count": 8,
      "outputs": [
        {
          "output_type": "stream",
          "name": "stdout",
          "text": [
            "x is not greater than 6\n"
          ]
        }
      ]
    },
    {
      "cell_type": "markdown",
      "source": [
        "**3. The elif Statement**\\\n",
        "The elif (short for \"else if\") statement is used when you want to test multiple conditions sequentially. Once a condition evaluates to True, its corresponding block is executed, and the rest of the conditions are skipped."
      ],
      "metadata": {
        "id": "gvie5gvk90W4"
      }
    },
    {
      "cell_type": "code",
      "source": [
        "x = 7\n",
        "\n",
        "if x > 10:\n",
        "    print(\"x is greater than 10\")\n",
        "elif x == 7:\n",
        "    print(\"x is equal to 7\")\n",
        "else:\n",
        "    print(\"x is less than 7\")\n"
      ],
      "metadata": {
        "colab": {
          "base_uri": "https://localhost:8080/"
        },
        "id": "J3h8AGMy98j5",
        "outputId": "25e6e890-bd62-4ece-99d0-0630ca3a14d8"
      },
      "execution_count": 9,
      "outputs": [
        {
          "output_type": "stream",
          "name": "stdout",
          "text": [
            "x is equal to 7\n"
          ]
        }
      ]
    },
    {
      "cell_type": "markdown",
      "source": [
        "**4. Nesting Conditions**\\\n",
        "You can also nest if statements within each other to create more complex logic."
      ],
      "metadata": {
        "id": "9LQyhS-1-qCV"
      }
    },
    {
      "cell_type": "code",
      "source": [
        "x = 15\n",
        "\n",
        "if x > 10:\n",
        "    print(\"x is greater than 10\")\n",
        "    if x > 20:\n",
        "        print(\"x is also greater than 20\")\n",
        "    else:\n",
        "        print(\"x is not greater than 20\")\n"
      ],
      "metadata": {
        "id": "jNM9Q5H-_Dzp"
      },
      "execution_count": null,
      "outputs": []
    },
    {
      "cell_type": "markdown",
      "source": [
        "**5. Conditions and Logical Operators**\\\n",
        "You can combine conditions using logical operators:\n",
        "\n",
        "and: Both conditions must be True.\n",
        "or: At least one condition must be True.\n",
        "not: Reverses the result of a condition."
      ],
      "metadata": {
        "id": "NFKG2kQt_HeS"
      }
    },
    {
      "cell_type": "code",
      "source": [
        "x = 8\n",
        "y = 3\n",
        "\n",
        "# Example using 'and'\n",
        "if x > 5 and y < 5:\n",
        "    print(\"Both conditions are true\")\n",
        "\n",
        "# Example using 'or'\n",
        "if x > 10 or y < 5:\n",
        "    print(\"At least one condition is true\")\n",
        "\n",
        "# Example using 'not'\n",
        "if not x == 10:\n",
        "    print(\"x is not equal to 10\")\n"
      ],
      "metadata": {
        "id": "hpwakuYt_PdF"
      },
      "execution_count": null,
      "outputs": []
    },
    {
      "cell_type": "markdown",
      "source": [
        "**7. Checking Membership with in :**\\\n",
        "The in operator is commonly used in conditional statements to check for membership in a collection, like strings, lists, or dictionaries."
      ],
      "metadata": {
        "id": "HkJYtV7u_rpd"
      }
    },
    {
      "cell_type": "code",
      "source": [
        "name = \"Alice\"\n",
        "\n",
        "if \"A\" in name:\n",
        "    print(\"The letter 'A' is in the name\")\n"
      ],
      "metadata": {
        "id": "J0B4YHtk_334"
      },
      "execution_count": null,
      "outputs": []
    },
    {
      "cell_type": "markdown",
      "source": [
        "**Use Cases in Data Science**\\\n",
        "Conditional statements are crucial for decision-making in data science tasks, such as:\n",
        "\n",
        "**Handling Missing Values:**\\\n",
        " You can check if data is missing and take appropriate action.\n",
        "**Feature Engineering:**\\\n",
        " Based on certain conditions, you can create or modify features for machine learning models.\n",
        "**Filtering Data:**\\\n",
        " Conditional statements are used to filter data rows or make decisions based on data content."
      ],
      "metadata": {
        "id": "S3dndi1G_9zN"
      }
    }
  ]
}