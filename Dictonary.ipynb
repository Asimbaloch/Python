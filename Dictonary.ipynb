{
  "nbformat": 4,
  "nbformat_minor": 0,
  "metadata": {
    "colab": {
      "provenance": [],
      "authorship_tag": "ABX9TyNYxUIkN3rr0koOIC4gGVXr",
      "include_colab_link": true
    },
    "kernelspec": {
      "name": "python3",
      "display_name": "Python 3"
    },
    "language_info": {
      "name": "python"
    }
  },
  "cells": [
    {
      "cell_type": "markdown",
      "metadata": {
        "id": "view-in-github",
        "colab_type": "text"
      },
      "source": [
        "<a href=\"https://colab.research.google.com/github/Asimbaloch/Python/blob/main/Dictonary.ipynb\" target=\"_parent\"><img src=\"https://colab.research.google.com/assets/colab-badge.svg\" alt=\"Open In Colab\"/></a>"
      ]
    },
    {
      "cell_type": "markdown",
      "source": [
        "# Dictionaries in Python\n",
        "\n",
        "A **dictionary** in Python is an unordered, mutable collection of key-value pairs. Each key in a dictionary is unique and associated with a value. Dictionaries are useful when you want to store data that can be referenced by a meaningful identifier (the key), rather than by position as in lists.\n",
        "\n",
        "### Key Characteristics of Dictionaries:\n",
        "1. **Key-Value Pairs**: Each entry in a dictionary is a key associated with a value.\n",
        "2. **Unordered**: Prior to Python 3.7, dictionaries were unordered, but starting from Python 3.7+, dictionaries maintain the insertion order of the keys.\n",
        "3. **Mutable**: You can change the contents of a dictionary (add, update, or remove key-value pairs).\n",
        "4. **Keys are Unique**: Each key in a dictionary must be unique and must be an immutable data type (like strings, numbers, or tuples).\n",
        "\n",
        "### Creating a Dictionary\n",
        "\n",
        "You can define a dictionary using curly braces `{}` and separate key-value pairs with colons `:`.\n",
        "\n",
        "\n"
      ],
      "metadata": {
        "id": "avheFixQSS0y"
      }
    },
    {
      "cell_type": "code",
      "execution_count": 5,
      "metadata": {
        "id": "jdK2J_DlP2dT"
      },
      "outputs": [],
      "source": [
        "# Example of an empty dictionary\n",
        "empty_dict = {}\n",
        "\n",
        "# Dictionary with integer keys\n",
        "num_dict = {1: \"one\", 2: \"two\", 3: \"three\"}\n",
        "\n",
        "# Dictionary with string keys\n",
        "person = {\"name\": \"Alice\", \"age\": 25, \"city\": \"New York\"}\n",
        "\n",
        "# Mixed data types (keys can be strings, numbers, etc.)\n",
        "mixed_dict = {\"id\": 123, \"score\": 95.5, \"active\": True}"
      ]
    },
    {
      "cell_type": "markdown",
      "source": [
        "###Modifying a Dictionary :\n",
        "Dictionaries are mutable, so you can add, update, or remove key-value pairs."
      ],
      "metadata": {
        "id": "sOJD1EYZZ1kL"
      }
    },
    {
      "cell_type": "markdown",
      "source": [
        "**1. Adding or Updating Key-Value Pairs:**\\\n",
        "If the key already exists, the value will be updated; if not, a new key-value pair will be added."
      ],
      "metadata": {
        "id": "OLH9ndazZ8Qy"
      }
    },
    {
      "cell_type": "code",
      "source": [
        "person = {\"name\": \"Asim Khan\",\n",
        "          \"age\":22,\n",
        "          \"is_student\" : True,\n",
        "          }\n",
        "\n",
        "person[\"city\"] = \"Khanewal\"\n",
        "\n",
        "person"
      ],
      "metadata": {
        "colab": {
          "base_uri": "https://localhost:8080/"
        },
        "id": "og7QyfPiaBtP",
        "outputId": "21c339b9-f99f-429e-837d-d05a0a643f88"
      },
      "execution_count": 6,
      "outputs": [
        {
          "output_type": "execute_result",
          "data": {
            "text/plain": [
              "{'name': 'Asim Khan', 'age': 22, 'is_student': True, 'city': 'Khanewal'}"
            ]
          },
          "metadata": {},
          "execution_count": 6
        }
      ]
    },
    {
      "cell_type": "markdown",
      "source": [
        "**2. Removing Key-Value Pairs**\\\n",
        "You can remove items from a dictionary using pop(), del, or popitem()."
      ],
      "metadata": {
        "id": "dj56i0veevCy"
      }
    },
    {
      "cell_type": "code",
      "source": [
        "# Using pop() to remove an item and return its value\n",
        "age = person.pop(\"age\")  # 26\n",
        "# Now person is: {'name': 'Alice', 'city': 'New York'}\n",
        "\n",
        "# Using del to delete an item (no return value)\n",
        "del person[\"city\"]  # {'name': 'Alice'}\n",
        "\n",
        "# Using popitem() to remove and return the last inserted key-value pair\n",
        "person[\"age\"] = 26\n",
        "last_item = person.popitem()  # ('age', 26) (removes 'age')\n"
      ],
      "metadata": {
        "id": "HHiTZGbnfSWN"
      },
      "execution_count": 7,
      "outputs": []
    },
    {
      "cell_type": "markdown",
      "source": [
        "###3. Clearing the Entire Dictionary :   \n"
      ],
      "metadata": {
        "id": "woWXn4pfgKzG"
      }
    },
    {
      "cell_type": "code",
      "source": [
        "person.clear()  # Now person is {}"
      ],
      "metadata": {
        "id": "hwQlO2jTgRtt"
      },
      "execution_count": 8,
      "outputs": []
    },
    {
      "cell_type": "markdown",
      "source": [
        "###Dictionary Methods:\n",
        "Python provides several useful methods for working with dictionaries."
      ],
      "metadata": {
        "id": "Q0_mJ8GcgaZS"
      }
    },
    {
      "cell_type": "markdown",
      "source": [
        "**1. keys()**\\\n",
        "Returns a view object that contains the keys of the dictionary."
      ],
      "metadata": {
        "id": "HntXp7ZYgeOL"
      }
    },
    {
      "cell_type": "code",
      "source": [
        "student_data = {\n",
        "    \"id \" : 11,\n",
        "    \"name\" : \"Asim\",\n",
        "    \"department\" :\"Computer Science\",\n",
        "    \"cgpa\" : 3.5,\n",
        "    \"city\" : \"Lahore\",\n",
        "    \"student\" : True,\n",
        "}\n",
        "\n",
        "\n",
        "keys = student_data.keys()\n",
        "print (keys)\n"
      ],
      "metadata": {
        "colab": {
          "base_uri": "https://localhost:8080/"
        },
        "id": "GWydMW89gmXB",
        "outputId": "728391d3-ac43-40a1-a8ae-921a74ee1b31"
      },
      "execution_count": 12,
      "outputs": [
        {
          "output_type": "stream",
          "name": "stdout",
          "text": [
            "dict_keys(['id ', 'name', 'department', 'cgpa', 'city', 'student'])\n",
            "dict_values([11, 'Asim', 'Computer Science', 3.5, 'Lahore', True])\n"
          ]
        }
      ]
    },
    {
      "cell_type": "markdown",
      "source": [
        "**2. values()**\\\n",
        "Returns a view object that contains the values of the dictionary."
      ],
      "metadata": {
        "id": "P0Ypi8ckg_hn"
      }
    },
    {
      "cell_type": "code",
      "source": [
        "values = student_data.values()\n",
        "print (values)"
      ],
      "metadata": {
        "colab": {
          "base_uri": "https://localhost:8080/"
        },
        "id": "HF_88nyzhEjf",
        "outputId": "2f6b785f-17c6-47a9-cf01-9b85e60d1820"
      },
      "execution_count": 13,
      "outputs": [
        {
          "output_type": "stream",
          "name": "stdout",
          "text": [
            "dict_values([11, 'Asim', 'Computer Science', 3.5, 'Lahore', True])\n"
          ]
        }
      ]
    },
    {
      "cell_type": "markdown",
      "source": [
        "**3. items()**\\\n",
        "Returns a view object that contains the key-value pairs as tuples."
      ],
      "metadata": {
        "id": "w5P8g3CGhFqF"
      }
    },
    {
      "cell_type": "code",
      "source": [
        "items = student_data.items()  # dict_items([('name', 'Alice'), ('age', 25)])"
      ],
      "metadata": {
        "id": "3Lx_IgX2hKMu"
      },
      "execution_count": 14,
      "outputs": []
    },
    {
      "cell_type": "markdown",
      "source": [
        "**4. update()**\\\n",
        "Updates the dictionary with key-value pairs from another dictionary or an iterable of key-value pairs."
      ],
      "metadata": {
        "id": "mU6B2IbDhVa_"
      }
    },
    {
      "cell_type": "code",
      "source": [
        "person = {\"name\": \"Alice\", \"age\": 25}\n",
        "new_data = {\"city\": \"New York\", \"age\": 26}\n",
        "\n",
        "person.update(new_data)  # {'name': 'Alice', 'age': 26, 'city': 'New York'}\n",
        "\n",
        "person\n"
      ],
      "metadata": {
        "colab": {
          "base_uri": "https://localhost:8080/"
        },
        "id": "M0zhm43chYUf",
        "outputId": "c049f258-24fe-40e0-9dcb-c14a4f1853fb"
      },
      "execution_count": 16,
      "outputs": [
        {
          "output_type": "execute_result",
          "data": {
            "text/plain": [
              "{'name': 'Alice', 'age': 26, 'city': 'New York'}"
            ]
          },
          "metadata": {},
          "execution_count": 16
        }
      ]
    },
    {
      "cell_type": "markdown",
      "source": [
        "**Nested Dictionaries:**\\\n",
        "Dictionaries can contain other dictionaries, which is useful for representing complex data structures."
      ],
      "metadata": {
        "id": "Gusx2U1aiG9W"
      }
    },
    {
      "cell_type": "code",
      "source": [
        "# Example: Nested dictionary representing a student's information\n",
        "student = {\n",
        "    \"name\": \"Alice\",\n",
        "    \"grades\": {\"math\": 90, \"science\": 85},\n",
        "    \"contact\": {\"email\": \"alice@example.com\", \"phone\": \"123-456-7890\"}\n",
        "}\n",
        "\n",
        "# Accessing values in a nested dictionary\n",
        "math_grade = student[\"grades\"][\"math\"]  # 90\n",
        "email = student[\"contact\"][\"email\"]     # 'alice@example.com'\n"
      ],
      "metadata": {
        "id": "vm1njD5FiNUx"
      },
      "execution_count": null,
      "outputs": []
    },
    {
      "cell_type": "markdown",
      "source": [
        "# Summary of Dictionaries\n",
        "\n",
        "- **Key-Value Pairs**: Dictionaries store data in key-value pairs, where each key is unique.\n",
        "- **Mutable**: You can add, update, or delete items in a dictionary[^1^][1][^2^][2].\n",
        "- **Dictionary Methods**: Python provides many useful methods (`get()`, `update()`, `keys()`, etc.) for working with dictionaries[^3^][3].\n",
        "- **Use Cases**: Dictionaries are often used in data science to handle mappings, JSON data, and for feature engineering[^4^][4].\n"
      ],
      "metadata": {
        "id": "PDVc0kF_j9I8"
      }
    }
  ]
}