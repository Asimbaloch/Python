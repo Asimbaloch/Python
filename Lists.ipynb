{
  "nbformat": 4,
  "nbformat_minor": 0,
  "metadata": {
    "colab": {
      "provenance": [],
      "authorship_tag": "ABX9TyO2774ADXcdbS8uxCp52tZF",
      "include_colab_link": true
    },
    "kernelspec": {
      "name": "python3",
      "display_name": "Python 3"
    },
    "language_info": {
      "name": "python"
    }
  },
  "cells": [
    {
      "cell_type": "markdown",
      "metadata": {
        "id": "view-in-github",
        "colab_type": "text"
      },
      "source": [
        "<a href=\"https://colab.research.google.com/github/Asimbaloch/Python/blob/main/Lists.ipynb\" target=\"_parent\"><img src=\"https://colab.research.google.com/assets/colab-badge.svg\" alt=\"Open In Colab\"/></a>"
      ]
    },
    {
      "cell_type": "markdown",
      "source": [
        "#Lists in Python:\n",
        "A list in Python is a versatile, ordered, and mutable collection of elements. Lists are commonly used in data structures and are one of the most widely used data types in Python due to their flexibility.\n",
        "\n",
        "**Key Characteristics of Lists:**\\\n",
        "Ordered: The items in a list have a defined order and can be accessed using their position (index).\n",
        "\n",
        "**Mutable:**\\\n",
        "Lists can be modified after creation (i.e., you can add, remove, or change items).\n",
        "**Heterogeneous:**\\\n",
        " Lists can store elements of different data types (e.g., integers, strings, even other lists).\n",
        "**Dynamic Size:**\\\n",
        " Lists can grow or shrink as needed, unlike arrays in some other programming languages."
      ],
      "metadata": {
        "id": "qMiaIdO_CQIv"
      }
    },
    {
      "cell_type": "markdown",
      "source": [
        "##Defining a List :\n",
        "You can create a list by placing elements inside square brackets [ ], separated by commas.\n",
        "\n"
      ],
      "metadata": {
        "id": "x4HSqoPtDHMp"
      }
    },
    {
      "cell_type": "code",
      "execution_count": 1,
      "metadata": {
        "id": "jsheSBEJCLtf"
      },
      "outputs": [],
      "source": [
        "# Empty list\n",
        "my_list = []\n",
        "\n",
        "# List with integers\n",
        "numbers = [1, 2, 3, 4]\n",
        "\n",
        "# List with mixed data types\n",
        "mixed = [1, \"Hello\", 3.14, True]\n",
        "\n",
        "# List of lists (nested lists)\n",
        "nested = [[1, 2, 3], [\"a\", \"b\", \"c\"]]\n"
      ]
    },
    {
      "cell_type": "markdown",
      "source": [
        "##Accessing Elements in a List :    \n",
        "Lists are zero-indexed, meaning the first element is at index 0, the second at index 1, and so on.\n",
        "\n",
        "\n"
      ],
      "metadata": {
        "id": "h68UNdRPKdPM"
      }
    },
    {
      "cell_type": "code",
      "source": [
        "numbers = [10, 20, 30, 40, 50]\n",
        "\n",
        "# Accessing elements by index\n",
        "first = numbers[0]   # 10\n",
        "second = numbers[1]  # 20\n",
        "\n",
        "# Accessing the last element\n",
        "last = numbers[-1]   # 50\n",
        "\n",
        "# Accessing a sublist using slicing\n",
        "sublist = numbers[1:4]  # [20, 30, 40]"
      ],
      "metadata": {
        "id": "FhzVIWfaKped"
      },
      "execution_count": null,
      "outputs": []
    },
    {
      "cell_type": "markdown",
      "source": [
        "## Modifying a List:\n",
        "Since lists are mutable, you can change elements after the list has been created."
      ],
      "metadata": {
        "id": "VYZN3ZDnLvB8"
      }
    },
    {
      "cell_type": "code",
      "source": [
        "# Change an element by its index\n",
        "numbers = [10, 20, 30, 40]\n",
        "numbers[2] = 100  # numbers is now [10, 20, 100, 40]\n",
        "\n",
        "# Add an element to the end of the list\n",
        "numbers.append(50)  # numbers is now [10, 20, 100, 40, 50]\n",
        "\n",
        "# Insert an element at a specific position\n",
        "numbers.insert(1, 15)  # numbers is now [10, 15, 20, 100, 40, 50]\n",
        "\n",
        "# Remove an element by its value\n",
        "numbers.remove(100)  # numbers is now [10, 15, 20, 40, 50]\n"
      ],
      "metadata": {
        "id": "OhAPSlnrL0yB"
      },
      "execution_count": null,
      "outputs": []
    },
    {
      "cell_type": "markdown",
      "source": [
        "##List Methods\n",
        "Python provides many built-in methods to work with lists."
      ],
      "metadata": {
        "id": "Wii3SLyzMKQR"
      }
    },
    {
      "cell_type": "markdown",
      "source": [
        "**1. append()**\\\n",
        "Adds an item to the end of the list."
      ],
      "metadata": {
        "id": "8XIm2_WqMSe5"
      }
    },
    {
      "cell_type": "code",
      "source": [
        "student = [\"Asim\",\"Ahsan\",\"Mahad\"]\n",
        "student.append(\"Khan\")\n",
        "\n",
        "student\n"
      ],
      "metadata": {
        "colab": {
          "base_uri": "https://localhost:8080/"
        },
        "id": "ppNn5Z4cMVbi",
        "outputId": "909bdd6c-b084-4ee9-eb8f-1047cf2a09a7"
      },
      "execution_count": 11,
      "outputs": [
        {
          "output_type": "execute_result",
          "data": {
            "text/plain": [
              "['Asim', 'Ahsan', 'Mahad', 'Khan']"
            ]
          },
          "metadata": {},
          "execution_count": 11
        }
      ]
    },
    {
      "cell_type": "markdown",
      "source": [
        "**2. extend()**\\\n",
        "Adds all elements from another list to the current list."
      ],
      "metadata": {
        "id": "fVNQ93J1MoPZ"
      }
    },
    {
      "cell_type": "code",
      "source": [
        "semester_1 = [\"Projects\"]\n",
        "semester_2 = [\"Theory\"]\n",
        "\n",
        "semester_1.extend(semester_2)\n",
        "\n",
        "semester_1"
      ],
      "metadata": {
        "colab": {
          "base_uri": "https://localhost:8080/"
        },
        "id": "TiiurbuvMtoa",
        "outputId": "7a667b83-379b-466b-8fce-88d4cb10b65a"
      },
      "execution_count": 12,
      "outputs": [
        {
          "output_type": "execute_result",
          "data": {
            "text/plain": [
              "['Projects', 'Theory']"
            ]
          },
          "metadata": {},
          "execution_count": 12
        }
      ]
    },
    {
      "cell_type": "markdown",
      "source": [
        "**3. insert()**\\\n",
        "Inserts an element at a specific index."
      ],
      "metadata": {
        "id": "p5P6wfqUM8jy"
      }
    },
    {
      "cell_type": "code",
      "source": [
        "fruits = [\"apple\", \"banana\", \"cherry\"]\n",
        "fruits.insert(1, \"orange\")\n",
        "fruits"
      ],
      "metadata": {
        "colab": {
          "base_uri": "https://localhost:8080/"
        },
        "id": "ZjBGWH4VNKPi",
        "outputId": "759dd3c6-c4f5-4d3d-a11b-392638750639"
      },
      "execution_count": 13,
      "outputs": [
        {
          "output_type": "execute_result",
          "data": {
            "text/plain": [
              "['apple', 'orange', 'banana', 'cherry']"
            ]
          },
          "metadata": {},
          "execution_count": 13
        }
      ]
    },
    {
      "cell_type": "markdown",
      "source": [
        "**4. remove()**\\\n",
        "Removes the first occurrence of a specified value."
      ],
      "metadata": {
        "id": "KGxsVK7INPMJ"
      }
    },
    {
      "cell_type": "code",
      "source": [
        "numbers = [1, 2, 3, 2, 4]\n",
        "numbers.remove(2)  # [1, 3, 2, 4] (removes the first '2')\n"
      ],
      "metadata": {
        "id": "KhB212ehNO6p"
      },
      "execution_count": null,
      "outputs": []
    },
    {
      "cell_type": "markdown",
      "source": [
        "**5. pop()**\\\n",
        "Removes and returns the element at a given index (default is the last item)."
      ],
      "metadata": {
        "id": "elwG5uhbNdbY"
      }
    },
    {
      "cell_type": "code",
      "source": [
        "numbers = [1, 2, 3]\n",
        "last_item = numbers.pop()  # 3 (removes and returns the last element)\n",
        "numbers  # [1, 2]"
      ],
      "metadata": {
        "id": "qpxjMN9MNlQR"
      },
      "execution_count": null,
      "outputs": []
    },
    {
      "cell_type": "markdown",
      "source": [
        "**6. index()**\\\n",
        "Returns the index of the first occurrence of an element."
      ],
      "metadata": {
        "id": "yK9loBgFNnpq"
      }
    },
    {
      "cell_type": "code",
      "source": [
        "numbers = [10, 20, 30, 20]\n",
        "index_20 = numbers.index(20)  # 1 (index of the first occurrence of '20')\n"
      ],
      "metadata": {
        "id": "C9_l962tNvcA"
      },
      "execution_count": null,
      "outputs": []
    },
    {
      "cell_type": "markdown",
      "source": [
        "**7. sort()**\\\n",
        "Sorts the list in ascending order (can also sort in descending order)."
      ],
      "metadata": {
        "id": "8RA5Iyj1N0eh"
      }
    },
    {
      "cell_type": "code",
      "source": [
        "numbers = [3, 1, 4, 1, 5]\n",
        "numbers.sort()  # [1, 1, 3, 4, 5]\n",
        "numbers.sort(reverse=True)  # [5, 4, 3, 1, 1]\n"
      ],
      "metadata": {
        "id": "dgdh5Sn1N8Gu"
      },
      "execution_count": 14,
      "outputs": []
    },
    {
      "cell_type": "markdown",
      "source": [
        "**8. reverse()**\\\n",
        "Reverses the order of the list."
      ],
      "metadata": {
        "id": "SfP7N5itN_f5"
      }
    },
    {
      "cell_type": "code",
      "source": [
        "numbers = [2, 4, 1, 3]\n",
        "numbers.reverse()  # [3, 1, 4, 2"
      ],
      "metadata": {
        "id": "_hAo2do7OEup"
      },
      "execution_count": 15,
      "outputs": []
    },
    {
      "cell_type": "markdown",
      "source": [
        "**9. count()**\\\n",
        "Counts how many times a specific value appears in the list."
      ],
      "metadata": {
        "id": "Pzyiw6xWOOTI"
      }
    },
    {
      "cell_type": "code",
      "source": [
        "numbers = [1, 2, 2, 3, 2]\n",
        "numbers.count(2)  # 3\n"
      ],
      "metadata": {
        "id": "1OIo4wS1OS5Y"
      },
      "execution_count": null,
      "outputs": []
    },
    {
      "cell_type": "markdown",
      "source": [
        "##Use Cases in Data Science:\n",
        "\n",
        "In data science, lists are frequently used to store, manipulate, and analyze collections of data. Here are a few common scenarios:"
      ],
      "metadata": {
        "id": "xWk0LAzuOhIh"
      }
    },
    {
      "cell_type": "markdown",
      "source": [
        "**1. Handling Data Records**\\\n",
        "Lists are useful for storing rows of data, especially when working with raw datasets."
      ],
      "metadata": {
        "id": "09TNEz3sOmtB"
      }
    },
    {
      "cell_type": "code",
      "source": [
        "# Example: Storing data points\n",
        "data_points = [[1.1, 2.2], [3.3, 4.4], [5.5, 6.6]]\n",
        "data_points"
      ],
      "metadata": {
        "colab": {
          "base_uri": "https://localhost:8080/"
        },
        "id": "-njXJp-1Ot44",
        "outputId": "5824ce71-4275-4893-bbcc-b11edc0d63b4"
      },
      "execution_count": 16,
      "outputs": [
        {
          "output_type": "execute_result",
          "data": {
            "text/plain": [
              "[[1.1, 2.2], [3.3, 4.4], [5.5, 6.6]]"
            ]
          },
          "metadata": {},
          "execution_count": 16
        }
      ]
    },
    {
      "cell_type": "markdown",
      "source": [
        "**2. Storing Results of Operations**\\\n",
        "After performing a calculation, lists can hold the results."
      ],
      "metadata": {
        "id": "Qei36HFLO5UI"
      }
    },
    {
      "cell_type": "code",
      "source": [
        "# Example: Storing model predictions\n",
        "predictions = [0.95, 0.89, 0.76, 0.82]\n",
        "predictions"
      ],
      "metadata": {
        "colab": {
          "base_uri": "https://localhost:8080/"
        },
        "id": "epMC2IfkO_Rx",
        "outputId": "9aaadd39-6762-4a37-d982-0e4b01cddc4a"
      },
      "execution_count": 17,
      "outputs": [
        {
          "output_type": "execute_result",
          "data": {
            "text/plain": [
              "[0.95, 0.89, 0.76, 0.82]"
            ]
          },
          "metadata": {},
          "execution_count": 17
        }
      ]
    },
    {
      "cell_type": "markdown",
      "source": [
        "**3. Iterating Through Data**\\\n",
        "You can loop through lists to process or analyze data."
      ],
      "metadata": {
        "id": "2Dz41mGkPDVJ"
      }
    },
    {
      "cell_type": "code",
      "source": [
        "# Example: Looping through a list of values\n",
        "for value in [10, 20, 30]:\n",
        "    print(value * 2)  # Outputs: 20, 40, 60\n"
      ],
      "metadata": {
        "id": "tD99gHygPITZ"
      },
      "execution_count": null,
      "outputs": []
    },
    {
      "cell_type": "markdown",
      "source": [
        "### Summary of Lists in Python\n",
        "\n",
        "- **Creation**: Lists can store multiple data types and can be defined using square brackets `[ ]`.\n",
        "- **Access and Modify**: Elements can be accessed using indices and modified in place since lists are mutable.\n",
        "- **Methods**: Python provides a rich set of built-in methods for manipulating lists (`append()`, `sort()`, `pop()`, etc.).\n",
        "- **Comprehension**: List comprehension offers a powerful and concise way to create new lists.\n",
        "- **Flexibility**: Lists are highly flexible and can be used to represent everything from simple sequences to complex data structures.\n"
      ],
      "metadata": {
        "id": "PaOTN7vMPNJQ"
      }
    }
  ]
}