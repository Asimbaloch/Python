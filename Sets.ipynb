{
  "nbformat": 4,
  "nbformat_minor": 0,
  "metadata": {
    "colab": {
      "provenance": [],
      "authorship_tag": "ABX9TyOJAuzX50Et/dcbZapdlQ8k",
      "include_colab_link": true
    },
    "kernelspec": {
      "name": "python3",
      "display_name": "Python 3"
    },
    "language_info": {
      "name": "python"
    }
  },
  "cells": [
    {
      "cell_type": "markdown",
      "metadata": {
        "id": "view-in-github",
        "colab_type": "text"
      },
      "source": [
        "<a href=\"https://colab.research.google.com/github/Asimbaloch/Python/blob/main/Sets.ipynb\" target=\"_parent\"><img src=\"https://colab.research.google.com/assets/colab-badge.svg\" alt=\"Open In Colab\"/></a>"
      ]
    },
    {
      "cell_type": "markdown",
      "source": [
        "# Sets in Python\n",
        "\n",
        "A set in Python is an unordered, mutable collection of unique elements. Sets are commonly used when you need to store unique items or perform mathematical set operations like union, intersection, difference, and symmetric difference.\n",
        "\n",
        "## Key Characteristics of Sets\n",
        "\n",
        "- **Unordered**: Sets do not preserve the order of elements.\n",
        "- **Unique Elements**: A set automatically removes duplicate elements.\n",
        "- **Mutable**: You can add or remove items from a set, but the items themselves must be immutable (e.g., numbers, strings, tuples).\n",
        "- **No Indexing**: Since sets are unordered, you cannot access elements using an index.\n"
      ],
      "metadata": {
        "id": "6KJ7WW8hFbF_"
      }
    },
    {
      "cell_type": "markdown",
      "source": [
        "## Creating a Set\n",
        "\n",
        "You can define a set using curly braces `{}` or the `set()` constructor."
      ],
      "metadata": {
        "id": "bcLRpuBUFbCH"
      }
    },
    {
      "cell_type": "code",
      "execution_count": null,
      "metadata": {
        "id": "XgSZSATnrow5"
      },
      "outputs": [],
      "source": [
        "# Empty set\n",
        "empty_set = set()  # Note: {} creates an empty dictionary, not a set\n",
        "\n",
        "# Set with integers\n",
        "num_set = {1, 2, 3, 4, 5}\n",
        "\n",
        "# Set with mixed data types\n",
        "mixed_set = {1, \"hello\", 3.14, (1, 2)}\n"
      ]
    },
    {
      "cell_type": "markdown",
      "source": [
        "##Accessing Set Elements\n"
      ],
      "metadata": {
        "id": "6O-_p0ExGbNl"
      }
    },
    {
      "cell_type": "markdown",
      "source": [
        "Since sets are unordered, there is no indexing or slicing. You can check for membership using the in operator.\n"
      ],
      "metadata": {
        "id": "nDe3p3JlGnoU"
      }
    },
    {
      "cell_type": "code",
      "source": [
        "num_set = {1, 2, 3, 4, 5}\n",
        "\n",
        "# Check if an element exists in the set\n",
        "print(3 in num_set)  # True\n",
        "print(10 in num_set)  # False\n"
      ],
      "metadata": {
        "id": "JzW0xWKfGi_H"
      },
      "execution_count": null,
      "outputs": []
    },
    {
      "cell_type": "markdown",
      "source": [
        "##Modifying a Set\n",
        "**1. Adding Elements**\\\n",
        "You can add elements to a set using the add() method."
      ],
      "metadata": {
        "id": "FFQDchU0Gw6U"
      }
    },
    {
      "cell_type": "code",
      "source": [
        "fruits = {\"apple\", \"banana\"}\n",
        "\n",
        "# Add a new element\n",
        "fruits.add(\"orange\")  # {'apple', 'banana', 'orange'}\n",
        "fruits\n"
      ],
      "metadata": {
        "colab": {
          "base_uri": "https://localhost:8080/"
        },
        "id": "Ju3RNeVNG-JP",
        "outputId": "25baa7b2-8817-409d-a9ce-4f6ea3d28093"
      },
      "execution_count": 1,
      "outputs": [
        {
          "output_type": "execute_result",
          "data": {
            "text/plain": [
              "{'apple', 'banana', 'orange'}"
            ]
          },
          "metadata": {},
          "execution_count": 1
        }
      ]
    },
    {
      "cell_type": "markdown",
      "source": [
        "**2. Updating a Set with Multiple Elements**\\\n",
        "You can add multiple elements from another iterable (like a list) using the update() method."
      ],
      "metadata": {
        "id": "gzgDwzekHSA2"
      }
    },
    {
      "cell_type": "code",
      "source": [
        "fruits = {\"apple\", \"banana\"}\n",
        "more_fruits = [\"grape\", \"watermelon\"]\n",
        "\n",
        "fruits.update(more_fruits)  # {'apple', 'banana', 'grape', 'watermelon'}\n",
        "fruits"
      ],
      "metadata": {
        "colab": {
          "base_uri": "https://localhost:8080/"
        },
        "id": "OR-yg4XjHZ-o",
        "outputId": "08b5b8b5-de07-4d28-e8bc-f1c0c4b64da0"
      },
      "execution_count": 2,
      "outputs": [
        {
          "output_type": "execute_result",
          "data": {
            "text/plain": [
              "{'apple', 'banana', 'grape', 'watermelon'}"
            ]
          },
          "metadata": {},
          "execution_count": 2
        }
      ]
    },
    {
      "cell_type": "markdown",
      "source": [
        "**3. Removing Elements**\\\n",
        "You can remove elements from a set using remove() or discard().\n",
        "\n",
        "remove() raises an error if the element does not exist.\n",
        "discard() does not raise an error if the element does not exist."
      ],
      "metadata": {
        "id": "BY0NGAzxHsOy"
      }
    },
    {
      "cell_type": "code",
      "source": [
        "fruits = {\"apple\", \"banana\", \"orange\"}\n",
        "\n",
        "# Remove an existing element\n",
        "fruits.remove(\"banana\")  # {'apple', 'orange'}\n",
        "\n",
        "# Discard an element (no error if the element is not found)\n",
        "fruits.discard(\"grape\")  # No error even though 'grape' is not in the set\n"
      ],
      "metadata": {
        "id": "Uo8U_Rf1H7TW"
      },
      "execution_count": null,
      "outputs": []
    },
    {
      "cell_type": "markdown",
      "source": [
        "**4. Removing and Returning an Arbitrary Element**\\\n",
        "You can remove and return an arbitrary element from a set using pop().\n",
        "\n",
        "\n"
      ],
      "metadata": {
        "id": "eFTQ80rEH_2v"
      }
    },
    {
      "cell_type": "code",
      "source": [
        "fruits = {\"apple\", \"banana\", \"orange\"}\n",
        "\n",
        "removed_fruit = fruits.pop()  # Removes and returns an arbitrary element\n",
        "print(removed_fruit)  # Could be any element (since sets are unordered)\n"
      ],
      "metadata": {
        "id": "OkxppoKFISC1"
      },
      "execution_count": null,
      "outputs": []
    },
    {
      "cell_type": "markdown",
      "source": [
        "**5. Clearing All Elements**\\\n",
        "You can clear all elements from a set using the clear() method."
      ],
      "metadata": {
        "id": "NUmNbO5PIYif"
      }
    },
    {
      "cell_type": "code",
      "source": [
        "fruits.clear()  # Now fruits is an empty set: set()\n"
      ],
      "metadata": {
        "id": "pZIlE_xEImGD"
      },
      "execution_count": null,
      "outputs": []
    },
    {
      "cell_type": "markdown",
      "source": [
        "# Set Methods Summary\n",
        "\n",
        "| Method                      | Description                                                      |\n",
        "|-----------------------------|------------------------------------------------------------------|\n",
        "| `add()`                     | Adds an element to the set                                       |\n",
        "| `remove()`                  | Removes an element from the set, raises `KeyError` if not found  |\n",
        "| `discard()`                 | Removes an element, does not raise an error if not found         |\n",
        "| `pop()`                     | Removes and returns an arbitrary element                         |\n",
        "| `clear()`                   | Removes all elements from the set                                |\n",
        "| `union()` / `|`             | Returns the union of two sets                                    |\n",
        "| `intersection()` / `&`      | Returns the intersection of two sets                             |\n",
        "| `difference()` / `-`        | Returns the difference between two sets                          |\n",
        "| `symmetric_difference()` / `^` | Returns the symmetric difference of two sets                    |\n",
        "| `issubset()`                | Checks if a set is a subset of another                           |\n",
        "| `issuperset()`              | Checks if a set is a superset of another                         |\n"
      ],
      "metadata": {
        "id": "iZGcOCNpJF51"
      }
    },
    {
      "cell_type": "markdown",
      "source": [
        "**Use Cases in Data Science**\\\n",
        "Sets are useful in data science when you need to perform operations that involve unique elements or mathematical set operations. Some use cases include:"
      ],
      "metadata": {
        "id": "WoARLo8wJJE5"
      }
    },
    {
      "cell_type": "markdown",
      "source": [
        "**1. Removing Duplicates from a List**\\\n",
        "Sets automatically remove duplicates, so they can be used to quickly eliminate duplicate entries from a dataset."
      ],
      "metadata": {
        "id": "VA74MhwnJe7w"
      }
    },
    {
      "cell_type": "code",
      "source": [
        "data = [1, 2, 2, 3, 4, 4, 5]\n",
        "unique_data = list(set(data))  # [1, 2, 3, 4, 5]"
      ],
      "metadata": {
        "id": "OB5ND8HiJjbe"
      },
      "execution_count": null,
      "outputs": []
    },
    {
      "cell_type": "markdown",
      "source": [
        "**2. Finding Common Elements Between Lists**\\\n",
        "Using set intersection, you can find common elements between two datasets."
      ],
      "metadata": {
        "id": "lD3LIBpXJ1by"
      }
    },
    {
      "cell_type": "code",
      "source": [
        "list1 = [1, 2, 3, 4]\n",
        "list2 = [3, 4, 5, 6]\n",
        "\n",
        "common_elements = list(set(list1) & set(list2))  # [3, 4]\n"
      ],
      "metadata": {
        "id": "27jHrUKJJ_DW"
      },
      "execution_count": null,
      "outputs": []
    },
    {
      "cell_type": "markdown",
      "source": [
        "**3. Set Operations on Data Columns**\\\n",
        "If you're working with pandas, you can apply set operations to data columns to find common or distinct values."
      ],
      "metadata": {
        "id": "HyZrVw96KDGa"
      }
    },
    {
      "cell_type": "code",
      "source": [
        "import pandas as pd\n",
        "\n",
        "df1 = pd.DataFrame({\"A\": [1, 2, 3], \"B\": [4, 5, 6]})\n",
        "df2 = pd.DataFrame({\"A\": [3, 4, 5], \"B\": [6, 7, 8]})\n",
        "\n",
        "# Find common values in column 'A'\n",
        "common_values = set(df1[\"A\"]) & set(df2[\"A\"])  # {3}\n"
      ],
      "metadata": {
        "id": "cLnUt9W3KKKD"
      },
      "execution_count": null,
      "outputs": []
    },
    {
      "cell_type": "markdown",
      "source": [
        "# Summary of Sets\n",
        "\n",
        "- **Unique Elements**: Sets store unique elements and automatically remove duplicates.\n",
        "- **Mutable**: You can add and remove elements from a set.\n",
        "- **Set Operations**: Python provides powerful set operations like union, intersection, and difference for performing mathematical set operations.\n",
        "- **Use Cases**: Sets are useful in data science for removing duplicates, finding common elements, and handling unique data values.\n"
      ],
      "metadata": {
        "id": "1BvA-OzqKQE1"
      }
    }
  ]
}