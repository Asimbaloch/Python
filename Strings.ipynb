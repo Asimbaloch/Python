{
  "nbformat": 4,
  "nbformat_minor": 0,
  "metadata": {
    "colab": {
      "provenance": [],
      "authorship_tag": "ABX9TyPp+B8bMoMWJfNZF2ZmtEg2",
      "include_colab_link": true
    },
    "kernelspec": {
      "name": "python3",
      "display_name": "Python 3"
    },
    "language_info": {
      "name": "python"
    }
  },
  "cells": [
    {
      "cell_type": "markdown",
      "metadata": {
        "id": "view-in-github",
        "colab_type": "text"
      },
      "source": [
        "<a href=\"https://colab.research.google.com/github/Asimbaloch/Python/blob/main/Strings.ipynb\" target=\"_parent\"><img src=\"https://colab.research.google.com/assets/colab-badge.svg\" alt=\"Open In Colab\"/></a>"
      ]
    },
    {
      "cell_type": "markdown",
      "source": [
        "#Strings :  \n",
        "\n",
        "In Python, a string is a sequence of characters enclosed within single ('...'), double (\"...\"), or triple quotes ('''...''' or \"\"\"...\"\"\"). Strings are one of the most common data types used for representing text."
      ],
      "metadata": {
        "id": "E_sTK8zlmtWN"
      }
    },
    {
      "cell_type": "code",
      "source": [
        "# Single quotes\n",
        "s1 = 'Hello, World!'\n",
        "\n",
        "# Double quotes\n",
        "s2 = \"Python is great!\"\n",
        "\n",
        "# Triple quotes (multi-line string)\n",
        "s3 = '''This is a\n",
        "multi-line string.'''\n"
      ],
      "metadata": {
        "id": "LvDcoULwmzM9"
      },
      "execution_count": 25,
      "outputs": []
    },
    {
      "cell_type": "markdown",
      "source": [
        "###**Key Properties of Strings**:\n",
        "Immutable: Once a string is created, it cannot be changed. Any modification creates a new string.\n",
        "Indexed: Strings are indexed, which means you can access individual characters using their position (index).\n",
        "Slicing: You can extract a substring using slicing."
      ],
      "metadata": {
        "id": "uXa_FTfjugWG"
      }
    },
    {
      "cell_type": "code",
      "source": [
        "# Indexing\n",
        "char = s1[0]\n",
        "print(char) # 'H'\n",
        "\n",
        "# Slicing\n",
        "sub_str = s1[0:5]  # 'Hello'\n",
        "print(sub_str)"
      ],
      "metadata": {
        "colab": {
          "base_uri": "https://localhost:8080/"
        },
        "id": "mA_DkI7Xm6cp",
        "outputId": "9781f9af-7f51-486d-cad4-fb55769a0cab"
      },
      "execution_count": 26,
      "outputs": [
        {
          "output_type": "stream",
          "name": "stdout",
          "text": [
            "H\n",
            "Hello\n"
          ]
        }
      ]
    },
    {
      "cell_type": "markdown",
      "source": [
        "1. upper() / lower() :\n",
        "Converts all characters in the string to uppercase or lowercase."
      ],
      "metadata": {
        "id": "ljp8_kj-3FXu"
      }
    },
    {
      "cell_type": "code",
      "source": [
        "s = \"Data Science\"\n",
        "s.upper()    # 'DATA SCIENCE'\n",
        "s.lower()    # 'data science'"
      ],
      "metadata": {
        "colab": {
          "base_uri": "https://localhost:8080/",
          "height": 36
        },
        "id": "soJAvaax3JA3",
        "outputId": "a29619a8-c921-4d3d-fc1c-56d9ee4831ae"
      },
      "execution_count": 27,
      "outputs": [
        {
          "output_type": "execute_result",
          "data": {
            "text/plain": [
              "'data science'"
            ],
            "application/vnd.google.colaboratory.intrinsic+json": {
              "type": "string"
            }
          },
          "metadata": {},
          "execution_count": 27
        }
      ]
    },
    {
      "cell_type": "markdown",
      "source": [
        "2. strip():\n",
        "Removes leading and trailing spaces (or specified characters)."
      ],
      "metadata": {
        "id": "pFOwSWH23b7z"
      }
    },
    {
      "cell_type": "code",
      "source": [
        "s = \"  Data Science  \"\n",
        "s.strip()    # 'Data Science'"
      ],
      "metadata": {
        "colab": {
          "base_uri": "https://localhost:8080/",
          "height": 36
        },
        "id": "tnoPz9i13hXf",
        "outputId": "f78a38d7-0a92-49e0-ac99-b6a3c6f9e524"
      },
      "execution_count": 28,
      "outputs": [
        {
          "output_type": "execute_result",
          "data": {
            "text/plain": [
              "'Data Science'"
            ],
            "application/vnd.google.colaboratory.intrinsic+json": {
              "type": "string"
            }
          },
          "metadata": {},
          "execution_count": 28
        }
      ]
    },
    {
      "cell_type": "markdown",
      "source": [
        "3. Split():\n",
        "Splits a string into a list, based on a delimiter (default is whitespace)."
      ],
      "metadata": {
        "id": "RBqUlnWD3nw6"
      }
    },
    {
      "cell_type": "code",
      "source": [
        "sentence = \"Machine learning is fun\"\n",
        "words = sentence.split()  # ['Machine', 'learning', 'is', 'fun']"
      ],
      "metadata": {
        "id": "wIJcPg9_30DZ"
      },
      "execution_count": 29,
      "outputs": []
    },
    {
      "cell_type": "markdown",
      "source": [
        "4. join():\n",
        "Joins a list of strings into a single string, using a specified delimiter."
      ],
      "metadata": {
        "id": "FWBrqQOq39WL"
      }
    },
    {
      "cell_type": "code",
      "source": [
        "words = ['Machine', 'learning', 'is', 'fun']\n",
        "sentence = ' '.join(words)  # 'Machine learning is fun'"
      ],
      "metadata": {
        "id": "FW_pyFcy4F78"
      },
      "execution_count": 30,
      "outputs": []
    },
    {
      "cell_type": "markdown",
      "source": [
        "5. replace():\n",
        "Replaces a substring within a string with another substring."
      ],
      "metadata": {
        "id": "hZKC_TzY4Dd2"
      }
    },
    {
      "cell_type": "code",
      "source": [
        "text = \"I love data science\"\n",
        "new_text = text.replace(\"data\", \"computer\")  # 'I love computer science'\n"
      ],
      "metadata": {
        "id": "lfFfVsNInFfQ"
      },
      "execution_count": 31,
      "outputs": []
    },
    {
      "cell_type": "markdown",
      "source": [
        "6. find() / index():\n",
        "Returns the index of the first occurrence of a substring. find() returns -1 if not found, while index() raises an error."
      ],
      "metadata": {
        "id": "p6efd5784TKz"
      }
    },
    {
      "cell_type": "code",
      "source": [
        "s = \"Data Science\"\n",
        "s.find(\"Science\")  # 5\n",
        "s.index(\"Data\")    # 0\n"
      ],
      "metadata": {
        "colab": {
          "base_uri": "https://localhost:8080/"
        },
        "id": "uVCqsQ_-nk1O",
        "outputId": "21ab5003-afbc-45b0-9b93-d2a7683416e8"
      },
      "execution_count": 32,
      "outputs": [
        {
          "output_type": "execute_result",
          "data": {
            "text/plain": [
              "0"
            ]
          },
          "metadata": {},
          "execution_count": 32
        }
      ]
    },
    {
      "cell_type": "markdown",
      "source": [
        "7. startswith() / endswith():\n",
        "Checks if the string starts or ends with a specific substring"
      ],
      "metadata": {
        "id": "UX5nvVlG4gcC"
      }
    },
    {
      "cell_type": "code",
      "source": [
        "s = \"Machine Learning\"\n",
        "s.startswith(\"Machine\")  # True\n",
        "s.endswith(\"Learning\")   # True\n"
      ],
      "metadata": {
        "colab": {
          "base_uri": "https://localhost:8080/"
        },
        "id": "Eum_CY3Tn6bg",
        "outputId": "71ec495e-41b9-4289-9d6d-49675b85820a"
      },
      "execution_count": 33,
      "outputs": [
        {
          "output_type": "execute_result",
          "data": {
            "text/plain": [
              "True"
            ]
          },
          "metadata": {},
          "execution_count": 33
        }
      ]
    },
    {
      "cell_type": "markdown",
      "source": [
        "8. count():\n",
        "Counts the occurrences of a substring in a string."
      ],
      "metadata": {
        "id": "repheGpo4rqi"
      }
    },
    {
      "cell_type": "code",
      "source": [
        "s = \"banana\"\n",
        "s.count(\"a\")  # 3\n"
      ],
      "metadata": {
        "colab": {
          "base_uri": "https://localhost:8080/"
        },
        "id": "WQp5yqfwqYz6",
        "outputId": "9f8abc35-92a4-4887-a4f1-f11c18142e00"
      },
      "execution_count": 34,
      "outputs": [
        {
          "output_type": "execute_result",
          "data": {
            "text/plain": [
              "3"
            ]
          },
          "metadata": {},
          "execution_count": 34
        }
      ]
    },
    {
      "cell_type": "markdown",
      "source": [
        "9. isnumeric() / isalpha():\n",
        "isnumeric() checks if all characters are digits.\n",
        "isalpha() checks if all characters are alphabetic."
      ],
      "metadata": {
        "id": "fUgejckV42AT"
      }
    },
    {
      "cell_type": "code",
      "source": [
        "s1 = \"12345\"\n",
        "s1.isnumeric()  # True\n",
        "\n",
        "s2 = \"DataScience\"\n",
        "s2.isalpha()    # True\n"
      ],
      "metadata": {
        "colab": {
          "base_uri": "https://localhost:8080/"
        },
        "id": "D6-nyMnrrrOq",
        "outputId": "408455e5-a8d7-4a85-c4ba-598504e6c266"
      },
      "execution_count": 35,
      "outputs": [
        {
          "output_type": "execute_result",
          "data": {
            "text/plain": [
              "True"
            ]
          },
          "metadata": {},
          "execution_count": 35
        }
      ]
    },
    {
      "cell_type": "markdown",
      "source": [
        "##Popular String Operations in Data Science:\n",
        "\n",
        "In data science, strings often represent text data. String methods are useful in tasks like text cleaning, tokenization, and preprocessing. Here are a few operations commonly used in text-based data processing:"
      ],
      "metadata": {
        "id": "LfTMfrJS77oz"
      }
    },
    {
      "cell_type": "markdown",
      "source": [
        "1. Text Normalization (lowercasing, removing whitespace)\n",
        "Converting text to lowercase is a common step to ensure uniformity in case-sensitive tasks (like NLP)."
      ],
      "metadata": {
        "id": "cegbIeqN8EXU"
      }
    },
    {
      "cell_type": "code",
      "source": [
        "text = \"   Data Science is AMAZING!   \"\n",
        "clean_text = text.strip().lower()\n",
        "clean_text"
      ],
      "metadata": {
        "colab": {
          "base_uri": "https://localhost:8080/",
          "height": 36
        },
        "id": "eq9bt1QN8AwK",
        "outputId": "47bef0e8-3f97-4af4-dcb2-277e6b3e773e"
      },
      "execution_count": 36,
      "outputs": [
        {
          "output_type": "execute_result",
          "data": {
            "text/plain": [
              "'data science is amazing!'"
            ],
            "application/vnd.google.colaboratory.intrinsic+json": {
              "type": "string"
            }
          },
          "metadata": {},
          "execution_count": 36
        }
      ]
    },
    {
      "cell_type": "markdown",
      "source": [
        "2. Tokenization (splitting text into words)\n",
        "Breaking a sentence into individual words, which is useful for Natural Language Processing (NLP)."
      ],
      "metadata": {
        "id": "30cG3Ear8Zj-"
      }
    },
    {
      "cell_type": "code",
      "source": [
        "sentence = \"Data science, machine learning, and AI.\"\n",
        "tokens = sentence.split()\n",
        "tokens"
      ],
      "metadata": {
        "colab": {
          "base_uri": "https://localhost:8080/"
        },
        "id": "OaEPKh8X8aWg",
        "outputId": "9f221817-bd8e-443c-b44d-97671a7f0c5e"
      },
      "execution_count": 37,
      "outputs": [
        {
          "output_type": "execute_result",
          "data": {
            "text/plain": [
              "['Data', 'science,', 'machine', 'learning,', 'and', 'AI.']"
            ]
          },
          "metadata": {},
          "execution_count": 37
        }
      ]
    },
    {
      "cell_type": "markdown",
      "source": [
        "3. Replacing Special Characters\n",
        "In many text datasets, you may need to remove or replace unwanted characters like punctuation.\n",
        "python"
      ],
      "metadata": {
        "id": "d5UrWStB8g09"
      }
    },
    {
      "cell_type": "code",
      "source": [
        "text = \"Hello, World! Let's analyze data.\"\n",
        "clean_text = text.replace(\",\", \"\").replace(\"!\", \"\")  # 'Hello World Let's analyze data'\n"
      ],
      "metadata": {
        "id": "5WGNnFNI8lcq"
      },
      "execution_count": null,
      "outputs": []
    },
    {
      "cell_type": "markdown",
      "source": [
        "4. Finding Substrings\n",
        "Often you need to search for specific keywords in a dataset."
      ],
      "metadata": {
        "id": "lhGvOIlv80Hh"
      }
    },
    {
      "cell_type": "code",
      "source": [
        "text = \"Machine learning is a branch of AI.\"\n",
        "if \"AI\" in text:\n",
        "    print(\"AI found!\")  # AI found!\n"
      ],
      "metadata": {
        "id": "cRlc6rZD81z7"
      },
      "execution_count": null,
      "outputs": []
    },
    {
      "cell_type": "markdown",
      "source": [
        "5. Handling Missing Data\n",
        "While processing data, missing values might be represented as empty strings. You can check and replace such values."
      ],
      "metadata": {
        "id": "s5bS52Z984Pf"
      }
    },
    {
      "cell_type": "code",
      "source": [
        "data = [\"AI\", \"\", \"Machine Learning\", None]\n",
        "clean_data = [item if item else \"Unknown\" for item in data]  # ['AI', 'Unknown', 'Machine Learning', 'Unknown']\n"
      ],
      "metadata": {
        "id": "H-G3AGJM87vF"
      },
      "execution_count": null,
      "outputs": []
    },
    {
      "cell_type": "markdown",
      "source": [
        "**Summary of String Methods:**\n",
        "Text Preprocessing: Methods like lower(), strip(), replace(), and split() are critical for cleaning and preparing text data. \\\n",
        "Searching and Matching: Methods like find(), startswith(), endswith() help search through text data.\\\n",
        "Data Cleaning: Handling missing or incorrect data often involves using replace() and checks like isnumeric().\n",
        "\\\n",
        "Why Strings Matter in Data Science:\\\n",
        "Text Data: Strings are commonly used to represent text, which can be a significant portion of real-world data (e.g., social media, customer feedback, documents).\\\n",
        "Feature Engineering: \\\n",
        "You may need to extract or clean information from text fields for machine learning models. \\\n",
        "Natural Language Processing (NLP): \\\n",
        "A lot of data science work involves working with text, where string manipulation is crucial."
      ],
      "metadata": {
        "id": "MtMxHVPP9BTZ"
      }
    }
  ]
}