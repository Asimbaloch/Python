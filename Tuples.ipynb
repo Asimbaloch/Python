{
  "nbformat": 4,
  "nbformat_minor": 0,
  "metadata": {
    "colab": {
      "provenance": [],
      "authorship_tag": "ABX9TyO549NOC43tv+buu6GYzSKd",
      "include_colab_link": true
    },
    "kernelspec": {
      "name": "python3",
      "display_name": "Python 3"
    },
    "language_info": {
      "name": "python"
    }
  },
  "cells": [
    {
      "cell_type": "markdown",
      "metadata": {
        "id": "view-in-github",
        "colab_type": "text"
      },
      "source": [
        "<a href=\"https://colab.research.google.com/github/Asimbaloch/Python/blob/main/Tuples.ipynb\" target=\"_parent\"><img src=\"https://colab.research.google.com/assets/colab-badge.svg\" alt=\"Open In Colab\"/></a>"
      ]
    },
    {
      "cell_type": "markdown",
      "source": [
        "# Tuples in Python\n",
        "\n",
        "A tuple in Python is an ordered, immutable collection of elements. Tuples are similar to lists, but unlike lists, once a tuple is created, its contents cannot be changed (i.e., it is immutable). Tuples are useful when you want to ensure that the data stored should not be modified, and they can be used to group related data together.\n",
        "\n",
        "## Key Characteristics of Tuples\n",
        "\n",
        "- **Ordered**: Tuples maintain the order of elements.\n",
        "- **Immutable**: You cannot modify, add, or remove elements after a tuple is created.\n",
        "- **Allows Duplicates**: Tuples can contain duplicate values.\n",
        "- **Heterogeneous**: A tuple can store elements of different data types.\n",
        "- **Indexed**: You can access elements in a tuple using an index.\n"
      ],
      "metadata": {
        "id": "yBBj3MYXLAoh"
      }
    },
    {
      "cell_type": "markdown",
      "source": [
        "## Creating Tuples\n",
        "\n",
        "You can create a tuple by placing elements inside parentheses `()` and separating them with commas.\n",
        "\n"
      ],
      "metadata": {
        "id": "hcQvydWcL1bX"
      }
    },
    {
      "cell_type": "code",
      "source": [
        "# Empty tuple\n",
        "empty_tuple = ()\n",
        "\n",
        "# Tuple with integers\n",
        "num_tuple = (1, 2, 3)\n",
        "\n",
        "# Tuple with mixed data types\n",
        "mixed_tuple = (1, \"hello\", 3.14)\n",
        "\n",
        "# Tuple without parentheses (tuple packing)\n",
        "packed_tuple = 1, 2, 3\n",
        "\n",
        "# Tuple with a single element (note the trailing comma)\n",
        "single_element_tuple = (5,)\n"
      ],
      "metadata": {
        "id": "li2o5CbRL5So"
      },
      "execution_count": 2,
      "outputs": []
    },
    {
      "cell_type": "markdown",
      "source": [
        "## Accessing Elements in a Tuple\n",
        "\n",
        "Tuples are indexed, meaning you can access elements using their position (index).\n",
        "\n",
        "\n"
      ],
      "metadata": {
        "id": "46ymfKA_QSKy"
      }
    },
    {
      "cell_type": "code",
      "source": [
        "# Example tuple\n",
        "fruits = (\"apple\", \"banana\", \"cherry\", \"date\")\n",
        "\n",
        "# Accessing elements by index\n",
        "first_fruit = fruits[0]  # 'apple'\n",
        "second_fruit = fruits[1]  # 'banana'\n",
        "\n",
        "# Accessing the last element\n",
        "last_fruit = fruits[-1]  # 'date'\n",
        "\n",
        "# Slicing a tuple (subtuple)\n",
        "sub_tuple = fruits[1:3]  # ('banana', 'cherry')\n"
      ],
      "metadata": {
        "id": "Xz747ncDRRGV"
      },
      "execution_count": 3,
      "outputs": []
    },
    {
      "cell_type": "markdown",
      "source": [
        "## Tuple Immutability\n",
        "\n",
        "Since tuples are immutable, you cannot modify the elements once the tuple is created. Attempting to change an element will raise a `TypeError`.\n"
      ],
      "metadata": {
        "id": "lSBtLThfRSW9"
      }
    },
    {
      "cell_type": "code",
      "source": [
        "num_tuple = (1, 2, 3)\n",
        "\n",
        "# Trying to modify an element will raise an error\n",
        "# num_tuple[0] = 10  # TypeError: 'tuple' object does not support item assignment\n"
      ],
      "metadata": {
        "id": "tfZ3jW7ZRhft"
      },
      "execution_count": 4,
      "outputs": []
    },
    {
      "cell_type": "markdown",
      "source": [
        "## Tuple Methods\n",
        "\n",
        "Since tuples are immutable, they provide fewer methods compared to lists. The two main tuple methods are:\n",
        "\n",
        "1. **`count()`**\n",
        "   - Returns the number of times a specified value occurs in the tuple."
      ],
      "metadata": {
        "id": "A57-ojmXR1X1"
      }
    },
    {
      "cell_type": "code",
      "source": [
        "numbers = (1, 2, 2, 3, 4, 2)\n",
        "count_of_twos = numbers.count(2)  # 3\n"
      ],
      "metadata": {
        "id": "6E0XtMNBR3qS"
      },
      "execution_count": 5,
      "outputs": []
    },
    {
      "cell_type": "markdown",
      "source": [
        "2. **`index()`**\n",
        "   - Returns the index of the first occurrence of a specified value in the tuple.\n"
      ],
      "metadata": {
        "id": "7-S_cWXFR9Hs"
      }
    },
    {
      "cell_type": "code",
      "source": [
        "fruits = (\"apple\", \"banana\", \"cherry\", \"apple\")\n",
        "index_of_apple = fruits.index(\"apple\")  # 0 (the first occurrence of 'apple')\n"
      ],
      "metadata": {
        "id": "i7cBSdb5SlNP"
      },
      "execution_count": 6,
      "outputs": []
    },
    {
      "cell_type": "markdown",
      "source": [
        "# Operations with Tuples\n",
        "\n",
        "Tuples support many operations similar to lists, including concatenation, repetition, and membership tests.\n",
        "\n",
        "## 1. Concatenation\n",
        "\n",
        "You can concatenate two or more tuples using the `+` operator."
      ],
      "metadata": {
        "id": "SIfYBZQBTJS9"
      }
    },
    {
      "cell_type": "code",
      "source": [
        "tuple1 = (1, 2, 3)\n",
        "tuple2 = (4, 5, 6)\n",
        "\n",
        "concatenated_tuple = tuple1 + tuple2  # (1, 2, 3, 4, 5, 6)\n",
        "concatenated_tuple"
      ],
      "metadata": {
        "colab": {
          "base_uri": "https://localhost:8080/"
        },
        "id": "6wJke6HATNBO",
        "outputId": "2204e5b8-24e2-4371-f668-4cb05a2db83c"
      },
      "execution_count": 7,
      "outputs": [
        {
          "output_type": "execute_result",
          "data": {
            "text/plain": [
              "(1, 2, 3, 4, 5, 6)"
            ]
          },
          "metadata": {},
          "execution_count": 7
        }
      ]
    },
    {
      "cell_type": "markdown",
      "source": [
        "**2. Repetition**\\\n",
        "You can repeat a tuple using the * operator."
      ],
      "metadata": {
        "id": "JxGVGL1iTZjz"
      }
    },
    {
      "cell_type": "code",
      "source": [
        "num_tuple = (1, 2, 3)\n",
        "repeated_tuple = num_tuple * 3  # (1, 2, 3, 1, 2, 3, 1, 2, 3)\n"
      ],
      "metadata": {
        "id": "xkOu0x86Tl-7"
      },
      "execution_count": 8,
      "outputs": []
    },
    {
      "cell_type": "markdown",
      "source": [
        "**3. Membership Test**\\\n",
        "You can check if an element exists in a tuple using the in keyword."
      ],
      "metadata": {
        "id": "ixBmzeD9Tpai"
      }
    },
    {
      "cell_type": "code",
      "source": [
        "fruits = (\"apple\", \"banana\", \"cherry\")\n",
        "\n",
        "print(\"banana\" in fruits)  # True\n",
        "print(\"grape\" in fruits)   # False\n"
      ],
      "metadata": {
        "colab": {
          "base_uri": "https://localhost:8080/"
        },
        "id": "JrKqUAxXTxtC",
        "outputId": "b3fb22a3-abd8-4e2c-d37f-a414d0fa1c66"
      },
      "execution_count": 9,
      "outputs": [
        {
          "output_type": "stream",
          "name": "stdout",
          "text": [
            "True\n",
            "False\n"
          ]
        }
      ]
    },
    {
      "cell_type": "markdown",
      "source": [
        "##Nested Tuples\n",
        "Tuples can also contain other tuples, creating nested tuples."
      ],
      "metadata": {
        "id": "9fMM3mJYT02y"
      }
    },
    {
      "cell_type": "code",
      "source": [
        "nested_tuple = ((1, 2, 3), (\"a\", \"b\", \"c\"))\n",
        "\n",
        "# Accessing elements in a nested tuple\n",
        "first_tuple = nested_tuple[0]  # (1, 2, 3)\n",
        "second_tuple = nested_tuple[1]  # ('a', 'b', 'c')\n",
        "\n",
        "first_element_of_first_tuple = nested_tuple[0][0]  # 1\n"
      ],
      "metadata": {
        "id": "M-F8YS9_UEOc"
      },
      "execution_count": 10,
      "outputs": []
    },
    {
      "cell_type": "markdown",
      "source": [
        "Summary of Tuples:\n",
        "Immutable: Once created, the elements of a tuple cannot be changed.\n",
        "Ordered: Tuples maintain the order of elements.\n",
        "Methods: Limited methods like count() and index().\n",
        "Use Cases: Used when data should remain constant (e.g., coordinates, configurations, or return values)."
      ],
      "metadata": {
        "id": "k1KRdf2XUHcK"
      }
    }
  ]
}